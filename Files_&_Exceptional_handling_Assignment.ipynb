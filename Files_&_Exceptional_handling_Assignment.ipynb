{
  "nbformat": 4,
  "nbformat_minor": 0,
  "metadata": {
    "colab": {
      "provenance": []
    },
    "kernelspec": {
      "name": "python3",
      "display_name": "Python 3"
    },
    "language_info": {
      "name": "python"
    }
  },
  "cells": [
    {
      "cell_type": "markdown",
      "source": [
        "# Files, exceptional handling, logging and memory management Questions"
      ],
      "metadata": {
        "id": "Ogrsw6RnSIYA"
      }
    },
    {
      "cell_type": "markdown",
      "source": [
        "Ques-1>> What is the difference between interpreted and compiled languages?\n",
        "\n",
        "Ans-1>> **Compiled Language**\n",
        "\n",
        "\n",
        "*   Code is converted into machine language before running\n",
        "*   Runs faster but needs to be compiled first. Ex- C, C++\n",
        "\n",
        "**Interpreted Language**\n",
        "\n",
        "\n",
        "*   Code is read and run line by line by an interpreter\n",
        "*   Easier to test, but runs slower Ex- Python, Javascript\n"
      ],
      "metadata": {
        "id": "saCdUvZqJILT"
      }
    },
    {
      "cell_type": "markdown",
      "source": [
        "Ques-2>> What is exception handling in Python?\n",
        "\n",
        "Ans-2>> Exception handling is a way to handle errors in your program without crashing it."
      ],
      "metadata": {
        "id": "TJfcoFjYKQHg"
      }
    },
    {
      "cell_type": "markdown",
      "source": [
        "Ques-3>> What is the purpose of the finally block in exception handling?\n",
        "\n",
        "Ans-3>>\n",
        "\n",
        "*   The finally block always runs, whether there is an error or not.\n",
        "*   It is used to clean up (like closing files or freeing resources)."
      ],
      "metadata": {
        "id": "6HLgBMQcKe5a"
      }
    },
    {
      "cell_type": "markdown",
      "source": [
        "Ques-4>> What is logging in Python?\n",
        "\n",
        "Ans-4>> Logging is a way to record messages from a program while it runs.\n",
        "\n",
        "These messages can show information, warnings, or errors to help track the program’s behavior and debug problems."
      ],
      "metadata": {
        "id": "obk_mD_XK6O2"
      }
    },
    {
      "cell_type": "markdown",
      "source": [
        "Ques-5>> What is the significance of the __del__ method in Python?\n",
        "\n",
        "Ans-5>> The __del__ method is called when an object is about to be destroyed (garbage collected). It is used to clean up resources like closing files or network connections before the object is removed from memory."
      ],
      "metadata": {
        "id": "rmUdHMLBLSWH"
      }
    },
    {
      "cell_type": "markdown",
      "source": [
        "Ques-6>> What is the difference between import and from ... import in Python?\n",
        "\n",
        "Ans-6>>\n",
        "\n",
        "*   **import module**: Imports the whole module. You use it like:\n",
        "*   **from module import something**: Imports only a specific part from the module. You can use it directly"
      ],
      "metadata": {
        "id": "dN7MBpF4Lpgr"
      }
    },
    {
      "cell_type": "markdown",
      "source": [
        "Ques-7>> How can you handle multiple exceptions in Python?\n",
        "\n",
        "Ans-7>> Using separate except blocks for each exception type, or Using one except block with multiple exceptions in parentheses."
      ],
      "metadata": {
        "id": "oqST4mwRMAXU"
      }
    },
    {
      "cell_type": "markdown",
      "source": [
        "Ques-8>> What is the purpose of the with statement when handling files in Python?\n",
        "\n",
        "Ans-8>> The with statement automatically opens and closes a file. It makes sure the file is properly closed, even if there is an error."
      ],
      "metadata": {
        "id": "-T8G9JV0MbgN"
      }
    },
    {
      "cell_type": "markdown",
      "source": [
        "Ques-9>> What is the difference between multithreading and multiprocessing?\n",
        "\n",
        "Ans-9>>\n",
        "\n",
        "*   **Multithreading**: Runs multiple threads within the same process, sharing memory. Good for tasks waiting on I/O (like reading files).\n",
        "*   **Multiprocessing** : Runs multiple processes separately, each with its own memory. Better for CPU-heavy tasks."
      ],
      "metadata": {
        "id": "b_T0anQ9Mpl4"
      }
    },
    {
      "cell_type": "markdown",
      "source": [
        "Ques-10>> What are the advantages of using logging in a program?\n",
        "\n",
        "Ans-10>>\n",
        "*   Helps track what the program is doing while it runs.\n",
        "*   Makes it easier to find and fix bugs.\n",
        "*   Records important events and errors for later review.\n",
        "*   Can save logs to files for long-term monitoring.\n",
        "*   More flexible and manageable than using print statements."
      ],
      "metadata": {
        "id": "1YfIPFtLM-Qj"
      }
    },
    {
      "cell_type": "markdown",
      "source": [
        "Ques-11>> What is memory management in Python?\n",
        "\n",
        "Ans-11>> Memory management in Python means how Python allocates, uses, and frees memory when your program runs.\n",
        "*   Python automatically handles memory using a system called garbage collection.\n",
        "*   It frees memory when objects are no longer needed, so you don’t have to do it manually."
      ],
      "metadata": {
        "id": "_hKLs0YZNePn"
      }
    },
    {
      "cell_type": "markdown",
      "source": [
        "Ques-12>> What are the basic steps involved in exception handling in Python?\n",
        "\n",
        "Ans-12>>\n",
        "1.   Try: Write the code that might cause an error inside a try block.\n",
        "2.   xcept: Write code to handle the error inside an except block.\n",
        "3.   (Optional) Else: Code inside else runs if no error occurs.\n",
        "4.   (Optional) Finally: Code inside finally runs no matter what, for cleanup."
      ],
      "metadata": {
        "id": "BsZXOdW8NutQ"
      }
    },
    {
      "cell_type": "markdown",
      "source": [
        "Ques-13>> Why is memory management important in Python?\n",
        "\n",
        "Ans-13>>\n",
        "\n",
        "1.   It keeps the program efficient by using memory wisely.\n",
        "2.   Frees memory from objects that are no longer needed, preventing memory leaks.\n",
        "3.   Helps the program run faster and smoother without running out of memory."
      ],
      "metadata": {
        "id": "Cj5TJpj6OGIC"
      }
    },
    {
      "cell_type": "markdown",
      "source": [
        "Ques-14>> What is the role of try and except in exception handling?\n",
        "\n",
        "Ans-14>>\n",
        "*   try block: Contains the code that might cause an error.\n",
        "*   except block: Contains the code that runs if an error happens, to handle the error and prevent the program from crashing."
      ],
      "metadata": {
        "id": "-rhBCITSOWT8"
      }
    },
    {
      "cell_type": "markdown",
      "source": [
        "Ques-15>> How does Python's garbage collection system work?\n",
        "\n",
        "Ans-15>>\n",
        "*   Python automatically frees memory of objects that are no longer used.\n",
        "*   It mainly uses reference counting — when an object’s reference count drops to zero, it’s deleted.\n",
        "*   It also has a garbage collector to clean up circular references (objects referring to each other)."
      ],
      "metadata": {
        "id": "VbMaFZBsOjqe"
      }
    },
    {
      "cell_type": "markdown",
      "source": [
        "Ques-16>> What is the purpose of the else block in exception handling?\n",
        "\n",
        "Ans-16>> The else block runs only if no exception occurs in the try block. It’s useful for code that should run when everything goes smoothly, separate from error handling."
      ],
      "metadata": {
        "id": "3wHmmod5O104"
      }
    },
    {
      "cell_type": "markdown",
      "source": [
        "Ques-17>> What are the common logging levels in Python?\n",
        "\n",
        "Ans-17>>\n",
        "*   DEBUG: Detailed information for diagnosing problems.\n",
        "*   INFO: General information about program execution.\n",
        "*   WARNING: Something unexpected happened, but the program can continue.\n",
        "*   ERROR: A serious problem happened; part of the program failed.\n",
        "*   CRITICAL: A very serious error that may stop the program."
      ],
      "metadata": {
        "id": "4cGezunePBEi"
      }
    },
    {
      "cell_type": "markdown",
      "source": [
        "Ques-18>> What is the difference between os.fork() and multiprocessing in Python?\n",
        "\n",
        "Ans-18>>\n",
        "*   os.fork(): Creates a new process by duplicating the current process (only on Unix/Linux). Both processes run independently. Low-level and less portable.\n",
        "*   multiprocessing module:Provides a higher-level way to create and manage multiple processes, works on Windows and Unix, and offers tools like process pools and communication between processes."
      ],
      "metadata": {
        "id": "NX5y1oMnPYGb"
      }
    },
    {
      "cell_type": "markdown",
      "source": [
        "Ques-19>> What is the importance of closing a file in Python?\n",
        "\n",
        "Ans-19>>\n",
        "*   Closing a file saves any changes made to it.\n",
        "*   It frees up system resources (like memory) used by the file.\n",
        "*   Prevents data corruption and other errors.\n",
        "*   Helps avoid reaching the limit on the number of open files.\n"
      ],
      "metadata": {
        "id": "l4hezsuNPlx9"
      }
    },
    {
      "cell_type": "markdown",
      "source": [
        "Ques-20>> What is the difference between file.read() and file.readline() in Python?\n",
        "\n",
        "Ans-20>>\n",
        "*   file.read(): Reads the entire content of the file as one big string\n",
        "*   file.readline(): Reads only one line from the file at a time."
      ],
      "metadata": {
        "id": "Fh9b7d4oP9IX"
      }
    },
    {
      "cell_type": "markdown",
      "source": [
        "Ques-21>> What is the logging module in Python used for?\n",
        "\n",
        "Ans-21>>\n",
        "*   The logging module helps you record messages about your program’s execution.\n",
        "*   It’s used to track events, errors, warnings, and informational messages.\n",
        "*   Useful for debugging and monitoring programs without using print statements."
      ],
      "metadata": {
        "id": "5-i0jhWiRTT6"
      }
    },
    {
      "cell_type": "markdown",
      "source": [
        "Ques-22>> What is the os module in Python used for in file handling?\n",
        "\n",
        "Ans-22>> The os module helps you interact with the operating system. In file handling, it lets you do things like:\n",
        "\n",
        "*   Create, delete, rename, or move files and directories.\n",
        "*   Check if a file or folder exists.\n",
        "*   Get file information (like size or modification time)."
      ],
      "metadata": {
        "id": "FHCnUFaoQKOk"
      }
    },
    {
      "cell_type": "markdown",
      "source": [
        "Ques-23>> What are the challenges associated with memory management in Python?\n",
        "\n",
        "Ans-23>>\n",
        "*   Memory leaks can happen if references to objects aren’t released.\n",
        "*   Circular references (objects referencing each other) can be hard to clean up.\n",
        "*   Managing memory for large data can slow down the program.\n",
        "*   Python’s automatic garbage collection adds some performance overhead."
      ],
      "metadata": {
        "id": "XGAHnI3fQjGj"
      }
    },
    {
      "cell_type": "markdown",
      "source": [
        "Ques-24>> How do you raise an exception manually in Python?\n",
        "\n",
        "Ans-24>> Use the raise keyword followed by an exception.\n",
        "raise ValueError(\"This is a manual error\")\n",
        "This stops the program and shows the error message you provide."
      ],
      "metadata": {
        "id": "ik70k3DLQ2om"
      }
    },
    {
      "cell_type": "markdown",
      "source": [
        "Ques-25>> Why is it important to use multithreading in certain applications?\n",
        "\n",
        "Ans-25>>\n",
        "*   It lets your program do multiple things at the same time (concurrently).\n",
        "*   Great for tasks that wait for input/output (like reading files or web requests), so the program doesn’t freeze.\n",
        "*   Improves performance by keeping the CPU busy while waiting for slower tasks."
      ],
      "metadata": {
        "id": "Ci4vdFsoRJNA"
      }
    },
    {
      "cell_type": "markdown",
      "source": [
        "# Practical Questions"
      ],
      "metadata": {
        "id": "OMuold3iR6jd"
      }
    },
    {
      "cell_type": "code",
      "source": [
        "# Ques-1>> How can you open a file for writing in Python and write a string to it?\n",
        "# Ans-1\n",
        "\n",
        "# Open a file named 'example.txt' in write mode ('w')\n",
        "with open('example.txt', 'w') as file:\n",
        "    # Write a string to the file\n",
        "    file.write(\"Hello, this is a sample text!\")"
      ],
      "metadata": {
        "id": "Zyb35VzDSlAq"
      },
      "execution_count": null,
      "outputs": []
    },
    {
      "cell_type": "code",
      "source": [
        "# Ques-2>>  Write a Python program to read the contents of a file and print each line.\n",
        "\n",
        "# Ans-2>>\n",
        "# Open the file in read mode\n",
        "with open('example.txt', 'r') as file:\n",
        "    # Loop through each line in the file\n",
        "    for line in file:\n",
        "        print(line, end='')  # end='' avoids adding extra blank lines\n"
      ],
      "metadata": {
        "colab": {
          "base_uri": "https://localhost:8080/"
        },
        "id": "da2ZPtiqSwek",
        "outputId": "6b3eec58-d31f-4a1a-ed93-c8f7466225b5"
      },
      "execution_count": null,
      "outputs": [
        {
          "output_type": "stream",
          "name": "stdout",
          "text": [
            "Hello, this is a sample text!"
          ]
        }
      ]
    },
    {
      "cell_type": "code",
      "source": [
        "# Ques-3>> How would you handle a case where the file doesn't exist while trying to open it for reading?\n",
        "# Ans-3>>\n",
        "\n",
        "try:\n",
        "    with open('nonexistent_file.txt', 'r') as file:\n",
        "        for line in file:\n",
        "            print(line, end='')\n",
        "except FileNotFoundError:\n",
        "    print(\"The file does not exist.\")"
      ],
      "metadata": {
        "colab": {
          "base_uri": "https://localhost:8080/"
        },
        "id": "z6NMjYm9S_PW",
        "outputId": "5b809815-593d-4585-a878-9aa0abc3affa"
      },
      "execution_count": null,
      "outputs": [
        {
          "output_type": "stream",
          "name": "stdout",
          "text": [
            "The file does not exist.\n"
          ]
        }
      ]
    },
    {
      "cell_type": "code",
      "source": [
        "# Ques-4>> Write a Python script that reads from one file and writes its content to another file.\n",
        "# Ans-4>>\n",
        "\n",
        "try:\n",
        "    with open('source.txt', 'r') as source_file:\n",
        "        content = source_file.read()\n",
        "\n",
        "    with open('destination.txt', 'w') as dest_file:\n",
        "        dest_file.write(content)\n",
        "\n",
        "    print(\"Content copied successfully!\")\n",
        "except FileNotFoundError:\n",
        "    print(\"Source file not found.\")\n",
        "except Exception as e:\n",
        "    print(f\"An error occurred: {e}\")\n"
      ],
      "metadata": {
        "colab": {
          "base_uri": "https://localhost:8080/"
        },
        "id": "QY7IXmsUTM4f",
        "outputId": "e0c7a1bb-9add-401d-9ddf-8d0788a470e4"
      },
      "execution_count": null,
      "outputs": [
        {
          "output_type": "stream",
          "name": "stdout",
          "text": [
            "Source file not found.\n"
          ]
        }
      ]
    },
    {
      "cell_type": "code",
      "source": [
        "# Ques-5>> How would you catch and handle division by zero error in Python?\n",
        "# Ans-5>>\n",
        "\n",
        "try:\n",
        "    result = 10 / 0\n",
        "except ZeroDivisionError:\n",
        "    print(\"Cannot divide by zero!\")\n"
      ],
      "metadata": {
        "colab": {
          "base_uri": "https://localhost:8080/"
        },
        "id": "OS3ith__TYDY",
        "outputId": "3d536410-2aba-43bc-af98-385d7fecef55"
      },
      "execution_count": null,
      "outputs": [
        {
          "output_type": "stream",
          "name": "stdout",
          "text": [
            "Cannot divide by zero!\n"
          ]
        }
      ]
    },
    {
      "cell_type": "code",
      "source": [
        "# Ques-6>> Write a Python program that logs an error message to a log file when a division by zero exception occurs.\n",
        "# Ans-6>>\n",
        "\n",
        "import logging\n",
        "\n",
        "# Configure logging to write to a file\n",
        "logging.basicConfig(filename='error.log', level=logging.ERROR,\n",
        "                    format='%(asctime)s - %(levelname)s - %(message)s')\n",
        "\n",
        "try:\n",
        "    result = 10 / 0\n",
        "except ZeroDivisionError:\n",
        "    logging.error(\"Division by zero error occurred.\")\n",
        "    print(\"An error was logged.\")\n"
      ],
      "metadata": {
        "colab": {
          "base_uri": "https://localhost:8080/"
        },
        "id": "KoLcwdDPThVA",
        "outputId": "c831b5d8-8561-4cec-d6c2-4e1bf85eea2a"
      },
      "execution_count": null,
      "outputs": [
        {
          "output_type": "stream",
          "name": "stderr",
          "text": [
            "ERROR:root:Division by zero error occurred.\n"
          ]
        },
        {
          "output_type": "stream",
          "name": "stdout",
          "text": [
            "An error was logged.\n"
          ]
        }
      ]
    },
    {
      "cell_type": "code",
      "source": [
        "# Ques-7>>  How do you log information at different levels (INFO, ERROR, WARNING) in Python using the logging module?\n",
        "# Ans-7>>\n",
        "\n",
        "import logging\n",
        "\n",
        "# Configure logging\n",
        "logging.basicConfig(level=logging.DEBUG,  # This sets the minimum level to capture\n",
        "                    format='%(asctime)s - %(levelname)s - %(message)s')\n",
        "\n",
        "logging.info(\"This is an info message\")\n",
        "logging.warning(\"This is a warning message\")\n",
        "logging.error(\"This is an error message\")\n"
      ],
      "metadata": {
        "colab": {
          "base_uri": "https://localhost:8080/"
        },
        "id": "j2GUNQdXTqKz",
        "outputId": "912a15ad-18ff-47b0-eac9-6b7c35cbfd20"
      },
      "execution_count": null,
      "outputs": [
        {
          "output_type": "stream",
          "name": "stderr",
          "text": [
            "WARNING:root:This is a warning message\n",
            "ERROR:root:This is an error message\n"
          ]
        }
      ]
    },
    {
      "cell_type": "code",
      "source": [
        "# Ques-8>>  Write a program to handle a file opening error using exception handling.\n",
        "# Ans-8>>\n",
        "\n",
        "try:\n",
        "    with open('myfile.txt', 'r') as file:\n",
        "        content = file.read()\n",
        "        print(content)\n",
        "except FileNotFoundError:\n",
        "    print(\"Error: The file was not found.\")\n",
        "except IOError:\n",
        "    print(\"Error: Could not read the file.\")\n"
      ],
      "metadata": {
        "colab": {
          "base_uri": "https://localhost:8080/"
        },
        "id": "sa9JyBG8T1fr",
        "outputId": "a27ac294-4d93-40fe-919d-a9a60aabce9f"
      },
      "execution_count": null,
      "outputs": [
        {
          "output_type": "stream",
          "name": "stdout",
          "text": [
            "Error: The file was not found.\n"
          ]
        }
      ]
    },
    {
      "cell_type": "code",
      "source": [
        "# Ques-9>>  How can you read a file line by line and store its content in a list in Python?\n",
        "# Ans-9>>\n",
        "\n",
        "with open('example.txt', 'r') as file:\n",
        "    lines = file.readlines()  # Reads all lines into a list\n",
        "\n",
        "print(lines)\n"
      ],
      "metadata": {
        "colab": {
          "base_uri": "https://localhost:8080/"
        },
        "id": "4IO7eFzrT__k",
        "outputId": "d831f6c5-757d-4eb3-e2f6-c16994a5c88b"
      },
      "execution_count": null,
      "outputs": [
        {
          "output_type": "stream",
          "name": "stdout",
          "text": [
            "['Hello, this is a sample text!']\n"
          ]
        }
      ]
    },
    {
      "cell_type": "code",
      "source": [
        "# Ques-10>> How can you append data to an existing file in Python?\n",
        "# Ans-10>>\n",
        "\n",
        "# Open the file in append mode ('a')\n",
        "with open('example.txt', 'a') as file:\n",
        "    file.write(\"\\nThis is new data being added.\")"
      ],
      "metadata": {
        "id": "tLXZiL4GUZjH"
      },
      "execution_count": null,
      "outputs": []
    },
    {
      "cell_type": "code",
      "source": [
        "# Ques-11>> Write a Python program that uses a try-except block to handle an error when attempting to access a dictionary key that doesn't exist.\n",
        "# Ans-11>>\n",
        "\n",
        "my_dict = {'name': 'Alice', 'age': 25}\n",
        "\n",
        "try:\n",
        "    # Attempt to access a key that might not exist\n",
        "    print(my_dict['gender'])\n",
        "except KeyError:\n",
        "    print(\"Error: The key 'gender' does not exist in the dictionary.\")\n"
      ],
      "metadata": {
        "colab": {
          "base_uri": "https://localhost:8080/"
        },
        "id": "qroIDzRhUl6i",
        "outputId": "2cf279d5-bfb4-41be-8dc0-5ac10dd569c3"
      },
      "execution_count": null,
      "outputs": [
        {
          "output_type": "stream",
          "name": "stdout",
          "text": [
            "Error: The key 'gender' does not exist in the dictionary.\n"
          ]
        }
      ]
    },
    {
      "cell_type": "code",
      "source": [
        "# Ques-12>> Write a program that demonstrates using multiple except blocks to handle different types of exceptions.\n",
        "# Ans-12>>\n",
        "\n",
        "try:\n",
        "    num = int(input(\"Enter a number: \"))\n",
        "    result = 10 / num\n",
        "    print(\"Result:\", result)\n",
        "\n",
        "    my_list = [1, 2, 3]\n",
        "    print(my_list[5])  # IndexError\n",
        "\n",
        "except ValueError:\n",
        "    print(\"Error: Invalid input. Please enter a number.\")\n",
        "\n",
        "except ZeroDivisionError:\n",
        "    print(\"Error: Cannot divide by zero.\")\n",
        "\n",
        "except IndexError:\n",
        "    print(\"Error: List index out of range.\")\n",
        "\n",
        "except Exception as e:\n",
        "    print(\"An unexpected error occurred:\", e)"
      ],
      "metadata": {
        "colab": {
          "base_uri": "https://localhost:8080/"
        },
        "id": "1yR51487Uz0S",
        "outputId": "5553540b-db47-4bf4-b137-058e4af179fb"
      },
      "execution_count": null,
      "outputs": [
        {
          "output_type": "stream",
          "name": "stdout",
          "text": [
            "Enter a number: 2\n",
            "Result: 5.0\n",
            "Error: List index out of range.\n"
          ]
        }
      ]
    },
    {
      "cell_type": "code",
      "source": [
        "# Ques-13>> How would you check if a file exists before attempting to read it in Python?\n",
        "# Ans-13>> import os\n",
        "\n",
        "filename = 'example.txt'\n",
        "\n",
        "if os.path.exists(filename):\n",
        "    with open(filename, 'r') as file:\n",
        "        content = file.read()\n",
        "        print(content)\n",
        "else:\n",
        "    print(f\"Error: '{filename}' does not exist.\")"
      ],
      "metadata": {
        "colab": {
          "base_uri": "https://localhost:8080/",
          "height": 211
        },
        "id": "HpEF1UFdVBFz",
        "outputId": "68cc293b-8819-48df-8823-889187fecca9"
      },
      "execution_count": null,
      "outputs": [
        {
          "output_type": "error",
          "ename": "NameError",
          "evalue": "name 'os' is not defined",
          "traceback": [
            "\u001b[0;31m---------------------------------------------------------------------------\u001b[0m",
            "\u001b[0;31mNameError\u001b[0m                                 Traceback (most recent call last)",
            "\u001b[0;32m/tmp/ipython-input-13-3026785016.py\u001b[0m in \u001b[0;36m<cell line: 0>\u001b[0;34m()\u001b[0m\n\u001b[1;32m      4\u001b[0m \u001b[0mfilename\u001b[0m \u001b[0;34m=\u001b[0m \u001b[0;34m'example.txt'\u001b[0m\u001b[0;34m\u001b[0m\u001b[0;34m\u001b[0m\u001b[0m\n\u001b[1;32m      5\u001b[0m \u001b[0;34m\u001b[0m\u001b[0m\n\u001b[0;32m----> 6\u001b[0;31m \u001b[0;32mif\u001b[0m \u001b[0mos\u001b[0m\u001b[0;34m.\u001b[0m\u001b[0mpath\u001b[0m\u001b[0;34m.\u001b[0m\u001b[0mexists\u001b[0m\u001b[0;34m(\u001b[0m\u001b[0mfilename\u001b[0m\u001b[0;34m)\u001b[0m\u001b[0;34m:\u001b[0m\u001b[0;34m\u001b[0m\u001b[0;34m\u001b[0m\u001b[0m\n\u001b[0m\u001b[1;32m      7\u001b[0m     \u001b[0;32mwith\u001b[0m \u001b[0mopen\u001b[0m\u001b[0;34m(\u001b[0m\u001b[0mfilename\u001b[0m\u001b[0;34m,\u001b[0m \u001b[0;34m'r'\u001b[0m\u001b[0;34m)\u001b[0m \u001b[0;32mas\u001b[0m \u001b[0mfile\u001b[0m\u001b[0;34m:\u001b[0m\u001b[0;34m\u001b[0m\u001b[0;34m\u001b[0m\u001b[0m\n\u001b[1;32m      8\u001b[0m         \u001b[0mcontent\u001b[0m \u001b[0;34m=\u001b[0m \u001b[0mfile\u001b[0m\u001b[0;34m.\u001b[0m\u001b[0mread\u001b[0m\u001b[0;34m(\u001b[0m\u001b[0;34m)\u001b[0m\u001b[0;34m\u001b[0m\u001b[0;34m\u001b[0m\u001b[0m\n",
            "\u001b[0;31mNameError\u001b[0m: name 'os' is not defined"
          ]
        }
      ]
    },
    {
      "cell_type": "code",
      "source": [
        "# Ques-14>> Write a program that uses the logging module to log both informational and error messages.\n",
        "# Ans-14>>\n",
        "\n",
        "import logging\n",
        "\n",
        "# Configure logging\n",
        "logging.basicConfig(\n",
        "    filename='app.log',           # Log file name\n",
        "    level=logging.INFO,           # Minimum level to log\n",
        "    format='%(asctime)s - %(levelname)s - %(message)s'\n",
        ")\n",
        "\n",
        "# Log an informational message\n",
        "logging.info(\"Program started successfully.\")\n",
        "\n",
        "try:\n",
        "    # Some code that might raise an error\n",
        "    result = 10 / 0\n",
        "except ZeroDivisionError:\n",
        "    logging.error(\"Tried to divide by zero.\")\n",
        "\n",
        "# Log another info message\n",
        "logging.info(\"Program ended.\")"
      ],
      "metadata": {
        "colab": {
          "base_uri": "https://localhost:8080/"
        },
        "id": "Wtc5vBWKVUZ9",
        "outputId": "bcc2f70b-2b51-45e5-c522-ab2feacb5856"
      },
      "execution_count": null,
      "outputs": [
        {
          "output_type": "stream",
          "name": "stderr",
          "text": [
            "ERROR:root:Tried to divide by zero.\n"
          ]
        }
      ]
    },
    {
      "cell_type": "code",
      "source": [
        "# Ques-15>> Write a Python program that prints the content of a file and handles the case when the file is empty.\n",
        "# Ans-15>>\n",
        "\n",
        "try:\n",
        "    with open('example.txt', 'r') as file:\n",
        "        content = file.read()\n",
        "\n",
        "        if content.strip() == \"\":\n",
        "            print(\"The file is empty.\")\n",
        "        else:\n",
        "            print(\"File Content:\\n\")\n",
        "            print(content)\n",
        "\n",
        "except FileNotFoundError:\n",
        "    print(\"Error: The file does not exist.\")\n",
        "except Exception as e:\n",
        "    print(f\"An unexpected error occurred: {e}\")\n"
      ],
      "metadata": {
        "colab": {
          "base_uri": "https://localhost:8080/"
        },
        "id": "AorE04LPVYL1",
        "outputId": "7aab9815-0a5c-48ad-c1b9-3036cbdd6185"
      },
      "execution_count": null,
      "outputs": [
        {
          "output_type": "stream",
          "name": "stdout",
          "text": [
            "File Content:\n",
            "\n",
            "Hello, this is a sample text!\n",
            "This is new data being added.\n"
          ]
        }
      ]
    },
    {
      "cell_type": "code",
      "source": [
        "# Ques-16>> Demonstrate how to use memory profiling to check the memory usage of a small program.\n",
        "# Ans-16>>"
      ],
      "metadata": {
        "id": "wrBzQOsPVn0n"
      },
      "execution_count": null,
      "outputs": []
    },
    {
      "cell_type": "code",
      "source": [
        "pip install memory-profiler"
      ],
      "metadata": {
        "colab": {
          "base_uri": "https://localhost:8080/"
        },
        "id": "hA3s7fwQWozH",
        "outputId": "dbc5d3a9-9d83-4d45-e689-f655e8923cf3"
      },
      "execution_count": null,
      "outputs": [
        {
          "output_type": "stream",
          "name": "stdout",
          "text": [
            "Requirement already satisfied: memory-profiler in /usr/local/lib/python3.11/dist-packages (0.61.0)\n",
            "Requirement already satisfied: psutil in /usr/local/lib/python3.11/dist-packages (from memory-profiler) (5.9.5)\n"
          ]
        }
      ]
    },
    {
      "cell_type": "code",
      "source": [
        "from memory_profiler import profile\n",
        "\n",
        "@profile\n",
        "def create_list():\n",
        "    data = [i for i in range(1000000)]\n",
        "    return data\n",
        "\n",
        "if __name__ == \"__main__\":\n",
        "    create_list()\n"
      ],
      "metadata": {
        "colab": {
          "base_uri": "https://localhost:8080/"
        },
        "id": "EGnoL3AjWsUf",
        "outputId": "3618f2e9-b627-415c-a179-f3f9e325a127"
      },
      "execution_count": null,
      "outputs": [
        {
          "output_type": "stream",
          "name": "stdout",
          "text": [
            "ERROR: Could not find file /tmp/ipython-input-31-3190097920.py\n"
          ]
        }
      ]
    },
    {
      "cell_type": "code",
      "source": [
        "python -m memory_profiler memory_test.py\n"
      ],
      "metadata": {
        "colab": {
          "base_uri": "https://localhost:8080/",
          "height": 106
        },
        "id": "arnVXt8OW4Ug",
        "outputId": "9ab0713c-c93f-43fb-bc7e-27d7b2c6a249"
      },
      "execution_count": null,
      "outputs": [
        {
          "output_type": "error",
          "ename": "SyntaxError",
          "evalue": "invalid syntax (ipython-input-32-467909958.py, line 1)",
          "traceback": [
            "\u001b[0;36m  File \u001b[0;32m\"/tmp/ipython-input-32-467909958.py\"\u001b[0;36m, line \u001b[0;32m1\u001b[0m\n\u001b[0;31m    python -m memory_profiler memory_test.py\u001b[0m\n\u001b[0m              ^\u001b[0m\n\u001b[0;31mSyntaxError\u001b[0m\u001b[0;31m:\u001b[0m invalid syntax\n"
          ]
        }
      ]
    },
    {
      "cell_type": "code",
      "source": [
        "# Ques-17>> Write a Python program to create and write a list of numbers to a file, one number per lineF\n",
        "# Ans-17>>\n",
        "# List of numbers\n",
        "numbers = [10, 20, 30, 40, 50]\n",
        "\n",
        "# Open a file in write mode\n",
        "with open('numbers.txt', 'w') as file:\n",
        "    for num in numbers:\n",
        "        file.write(f\"{num}\\n\")\n",
        "\n",
        "print(\"Numbers written to 'numbers.txt' successfully.\")\n"
      ],
      "metadata": {
        "colab": {
          "base_uri": "https://localhost:8080/"
        },
        "id": "1eQ2l7AkW-iL",
        "outputId": "bafae613-d3a3-4a68-95f5-feed466f2221"
      },
      "execution_count": null,
      "outputs": [
        {
          "output_type": "stream",
          "name": "stdout",
          "text": [
            "Numbers written to 'numbers.txt' successfully.\n"
          ]
        }
      ]
    },
    {
      "cell_type": "code",
      "source": [
        "# Ques-18>> How would you implement a basic logging setup that logs to a file with rotation after 1MB?\n",
        "# Ans-18>>\n",
        "import logging\n",
        "from logging.handlers import RotatingFileHandler\n",
        "\n",
        "# Create a logger\n",
        "logger = logging.getLogger('my_logger')\n",
        "logger.setLevel(logging.DEBUG)  # Log all levels DEBUG and above\n",
        "\n",
        "# Create a rotating file handler\n",
        "handler = RotatingFileHandler(\n",
        "    'app.log',       # Log file name\n",
        "    maxBytes=1_000_000,  # 1 MB\n",
        "    backupCount=3       # Keep last 3 backup files\n",
        ")\n",
        "\n",
        "# Create a formatter and set it for the handler\n",
        "formatter = logging.Formatter('%(asctime)s - %(levelname)s - %(message)s')\n",
        "handler.setFormatter(formatter)\n",
        "\n",
        "# Add the handler to the logger\n",
        "logger.addHandler(handler)\n",
        "\n",
        "# Example logs\n",
        "logger.info(\"This is an info message.\")\n",
        "logger.error(\"This is an error message.\")\n"
      ],
      "metadata": {
        "id": "Y8mOITUpXEqa"
      },
      "execution_count": null,
      "outputs": []
    },
    {
      "cell_type": "code",
      "source": [
        "# Ques-19>> Write a program that handles both IndexError and KeyError using a try-except block.\n",
        "# Ans-19>>\n",
        "def handle_errors():\n",
        "    my_list = [10, 20, 30]\n",
        "    my_dict = {\"a\": 1, \"b\": 2}\n",
        "\n",
        "    try:\n",
        "        # Attempt to access an invalid index\n",
        "        print(\"List item:\", my_list[5])\n",
        "\n",
        "        # Attempt to access a non-existing key\n",
        "        print(\"Dictionary item:\", my_dict[\"z\"])\n",
        "\n",
        "    except IndexError:\n",
        "        print(\"IndexError: You tried to access an invalid index in the list.\")\n",
        "\n",
        "    except KeyError:\n",
        "        print(\"KeyError: You tried to access a non-existent key in the dictionary.\")\n",
        "\n",
        "# Run the function\n",
        "handle_errors()\n"
      ],
      "metadata": {
        "colab": {
          "base_uri": "https://localhost:8080/"
        },
        "id": "yDLM2Vu_9FE_",
        "outputId": "18498776-c532-4d8e-f960-fa38dd99a257"
      },
      "execution_count": 1,
      "outputs": [
        {
          "output_type": "stream",
          "name": "stdout",
          "text": [
            "IndexError: You tried to access an invalid index in the list.\n"
          ]
        }
      ]
    },
    {
      "cell_type": "code",
      "source": [
        "# Ques-20>> How would you open a file and read its contents using a context manager in Python?\n",
        "# Ans-20>>\n",
        "# Open and read the file using a context manager\n",
        "try:\n",
        "    with open('example.txt', 'r') as file:\n",
        "        contents = file.read()\n",
        "    print(contents)\n",
        "except FileNotFoundError:\n",
        "    print(\"The file was not found.\")"
      ],
      "metadata": {
        "colab": {
          "base_uri": "https://localhost:8080/"
        },
        "id": "2i9mtfCp9aDx",
        "outputId": "00b6b2c9-5b0f-43ee-ab0b-65264fe5e236"
      },
      "execution_count": 3,
      "outputs": [
        {
          "output_type": "stream",
          "name": "stdout",
          "text": [
            "The file was not found.\n"
          ]
        }
      ]
    },
    {
      "cell_type": "code",
      "source": [
        "# Ques-21>>  Write a Python program that reads a file and prints the number of occurrences of a specific word.\n",
        "# Ans-21>>\n",
        "def count_word_in_file(filename, target_word):\n",
        "    try:\n",
        "        with open(filename, 'r') as file:\n",
        "            content = file.read().lower()  # Convert content to lowercase for case-insensitive matching\n",
        "            word_count = content.split().count(target_word.lower())\n",
        "            print(f\"The word '{target_word}' appears {word_count} times in the file.\")\n",
        "    except FileNotFoundError:\n",
        "        print(\"Error: The file was not found.\")\n",
        "    except Exception as e:\n",
        "        print(\"An error occurred:\", e)\n",
        "\n",
        "# Example usage\n",
        "filename = input(\"Enter the filename (e.g., example.txt): \")\n",
        "word = input(\"Enter the word to count: \")\n",
        "count_word_in_file(filename, word)"
      ],
      "metadata": {
        "colab": {
          "base_uri": "https://localhost:8080/"
        },
        "id": "hy_R5b--9sJa",
        "outputId": "2b4cc4c9-d031-4c3c-a306-39ea1789a329"
      },
      "execution_count": 4,
      "outputs": [
        {
          "output_type": "stream",
          "name": "stdout",
          "text": [
            "Enter the filename (e.g., example.txt): example.txt\n",
            "Enter the word to count: pawan\n",
            "Error: The file was not found.\n"
          ]
        }
      ]
    },
    {
      "cell_type": "code",
      "source": [
        "# Ques-22>> How can you check if a file is empty before attempting to read its contents?\n",
        "# Ans-22>>\n",
        "import os\n",
        "\n",
        "filename = 'example.txt'\n",
        "\n",
        "# Check if the file exists and is empty\n",
        "if os.path.exists(filename) and os.stat(filename).st_size == 0:\n",
        "    print(\"The file is empty.\")\n",
        "else:\n",
        "    with open(filename, 'r') as file:\n",
        "        contents = file.read()\n",
        "        print(\"File contents:\\n\", contents)\n"
      ],
      "metadata": {
        "colab": {
          "base_uri": "https://localhost:8080/",
          "height": 211
        },
        "id": "x0l1tRt296D0",
        "outputId": "9fba9cd8-0e15-4e86-e6d9-bf0e6bfd9833"
      },
      "execution_count": 5,
      "outputs": [
        {
          "output_type": "error",
          "ename": "FileNotFoundError",
          "evalue": "[Errno 2] No such file or directory: 'example.txt'",
          "traceback": [
            "\u001b[0;31m---------------------------------------------------------------------------\u001b[0m",
            "\u001b[0;31mFileNotFoundError\u001b[0m                         Traceback (most recent call last)",
            "\u001b[0;32m/tmp/ipython-input-5-2203967077.py\u001b[0m in \u001b[0;36m<cell line: 0>\u001b[0;34m()\u001b[0m\n\u001b[1;32m      9\u001b[0m     \u001b[0mprint\u001b[0m\u001b[0;34m(\u001b[0m\u001b[0;34m\"The file is empty.\"\u001b[0m\u001b[0;34m)\u001b[0m\u001b[0;34m\u001b[0m\u001b[0;34m\u001b[0m\u001b[0m\n\u001b[1;32m     10\u001b[0m \u001b[0;32melse\u001b[0m\u001b[0;34m:\u001b[0m\u001b[0;34m\u001b[0m\u001b[0;34m\u001b[0m\u001b[0m\n\u001b[0;32m---> 11\u001b[0;31m     \u001b[0;32mwith\u001b[0m \u001b[0mopen\u001b[0m\u001b[0;34m(\u001b[0m\u001b[0mfilename\u001b[0m\u001b[0;34m,\u001b[0m \u001b[0;34m'r'\u001b[0m\u001b[0;34m)\u001b[0m \u001b[0;32mas\u001b[0m \u001b[0mfile\u001b[0m\u001b[0;34m:\u001b[0m\u001b[0;34m\u001b[0m\u001b[0;34m\u001b[0m\u001b[0m\n\u001b[0m\u001b[1;32m     12\u001b[0m         \u001b[0mcontents\u001b[0m \u001b[0;34m=\u001b[0m \u001b[0mfile\u001b[0m\u001b[0;34m.\u001b[0m\u001b[0mread\u001b[0m\u001b[0;34m(\u001b[0m\u001b[0;34m)\u001b[0m\u001b[0;34m\u001b[0m\u001b[0;34m\u001b[0m\u001b[0m\n\u001b[1;32m     13\u001b[0m         \u001b[0mprint\u001b[0m\u001b[0;34m(\u001b[0m\u001b[0;34m\"File contents:\\n\"\u001b[0m\u001b[0;34m,\u001b[0m \u001b[0mcontents\u001b[0m\u001b[0;34m)\u001b[0m\u001b[0;34m\u001b[0m\u001b[0;34m\u001b[0m\u001b[0m\n",
            "\u001b[0;31mFileNotFoundError\u001b[0m: [Errno 2] No such file or directory: 'example.txt'"
          ]
        }
      ]
    },
    {
      "cell_type": "code",
      "source": [
        "# Ques-23>> Write a Python program that writes to a log file when an error occurs during file handling.\n",
        "# Ans-23>>\n",
        "import logging\n",
        "\n",
        "# Configure the logger\n",
        "logging.basicConfig(\n",
        "    filename='error_log.txt',\n",
        "    level=logging.ERROR,\n",
        "    format='%(asctime)s - %(levelname)s - %(message)s'\n",
        ")\n",
        "\n",
        "def read_file(filename):\n",
        "    try:\n",
        "        with open(filename, 'r') as file:\n",
        "            contents = file.read()\n",
        "            print(\"File contents:\\n\", contents)\n",
        "    except Exception as e:\n",
        "        print(\"An error occurred while reading the file.\")\n",
        "        logging.error(f\"Error reading file '{filename}': {e}\")\n",
        "\n",
        "# Example usage\n",
        "filename = input(\"Enter the filename to read: \")\n",
        "read_file(filename)"
      ],
      "metadata": {
        "colab": {
          "base_uri": "https://localhost:8080/"
        },
        "id": "WUX5Bunz-LDu",
        "outputId": "31c5cb1f-34c6-4e54-e926-8d2c15cdad50"
      },
      "execution_count": 6,
      "outputs": [
        {
          "name": "stdout",
          "output_type": "stream",
          "text": [
            "Enter the filename to read: example.txt\n"
          ]
        },
        {
          "output_type": "stream",
          "name": "stderr",
          "text": [
            "ERROR:root:Error reading file 'example.txt': [Errno 2] No such file or directory: 'example.txt'\n"
          ]
        },
        {
          "output_type": "stream",
          "name": "stdout",
          "text": [
            "An error occurred while reading the file.\n"
          ]
        }
      ]
    }
  ]
}