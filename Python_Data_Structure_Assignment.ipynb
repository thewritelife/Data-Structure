{
  "nbformat": 4,
  "nbformat_minor": 0,
  "metadata": {
    "colab": {
      "provenance": []
    },
    "kernelspec": {
      "name": "python3",
      "display_name": "Python 3"
    },
    "language_info": {
      "name": "python"
    }
  },
  "cells": [
    {
      "cell_type": "markdown",
      "source": [
        "# **Data Types and Structures Questions**"
      ],
      "metadata": {
        "id": "9h2E2soCD-oi"
      }
    },
    {
      "cell_type": "markdown",
      "source": [
        "Ques-1>> What are data structures, and why are they important?\n",
        "  \n",
        "Ans-1>> Data structures are ways of organizing and storing data in a computer so it can be accessed and modified efficiently.\n",
        "\n",
        "Importance : They help in efficient data management, faster processing, and are essential for writing optimized code.\n",
        "\n",
        ""
      ],
      "metadata": {
        "id": "_zztZUFQ6B3H"
      }
    },
    {
      "cell_type": "markdown",
      "source": [
        "Ques-2>> Explain the difference between mutable and immutable data types with examples.\n",
        "\n",
        "Ans-2>> **Mutable** data types can be changed after they are created. Example: List, Dictionary\n",
        "\n",
        "**Immutable** data types cannot be changed once they are created. Example: String, tuple"
      ],
      "metadata": {
        "id": "h0Zei5cP68Kk"
      }
    },
    {
      "cell_type": "markdown",
      "source": [
        "Ques-3>> What are the main differences between lists and tuples in Python?\n",
        "\n",
        "Ans-3>>\n",
        "\n",
        "1.   **Mutability**\n",
        "\n",
        "*   Lists are mutable, meaning their elements can be changed or updated.\n",
        "*   Tuples are immutable, so their content cannot be modified after creation.\n",
        "\n",
        "2.   **Syntax**\n",
        "\n",
        "*   Lists use square brackets: [1, 2, 3]\n",
        "*   Tuples use parentheses: (1, 2, 3)"
      ],
      "metadata": {
        "id": "1_ZI_N_b7kFe"
      }
    },
    {
      "cell_type": "markdown",
      "source": [
        "Ques-4>> Describe how dictionaries store data?\n",
        "\n",
        "Ans-4>> Dictionaries in Python store data as key-value pairs."
      ],
      "metadata": {
        "id": "SUi00vzu8nG9"
      }
    },
    {
      "cell_type": "markdown",
      "source": [
        "Ques-5>> Why might you use a set instead of a list in Python?\n",
        "\n",
        "Ans-5>> We might use a set instead of a list when we want to Store unique items (no duplicates)."
      ],
      "metadata": {
        "id": "CFIQrdfz882Z"
      }
    },
    {
      "cell_type": "markdown",
      "source": [
        "Ques-6>> What is a string in Python, and how is it different from a list?\n",
        "\n",
        "Ans-6>> A **string** in Python is a sequence of characters used to store text.\n",
        "\n",
        "**Differences from a list:**\n",
        "*   A string holds characters, while a list can hold items of any type (numbers, strings, etc.).\n",
        "*   Strings are immutable (can’t be changed), but lists are mutable (can be changed).\n",
        "*   Strings use quotes (\" \" or ' '), lists use square brackets ([ ])."
      ],
      "metadata": {
        "id": "nETJVj_y9cac"
      }
    },
    {
      "cell_type": "markdown",
      "source": [
        "Ques-7>> How do tuples ensure data integrity in Python?\n",
        "\n",
        "Ans-7>> Tuples ensure data integrity by being immutable, meaning once a tuple is created, its content cannot be changed."
      ],
      "metadata": {
        "id": "eJv8yjeD-DUS"
      }
    },
    {
      "cell_type": "markdown",
      "source": [
        "Ques-8>>What is a hash table, and how does it relate to dictionaries in Python?\n",
        "\n",
        "Ans-8>> A **hash table** is a data structure that stores data using a key and a computed hash value to quickly find the data."
      ],
      "metadata": {
        "id": "ARd9YsnX-RH4"
      }
    },
    {
      "cell_type": "markdown",
      "source": [
        "Ques-9>> Can lists contain different data types in Python?\n",
        "\n",
        "ans-9>> Yes, lists in Python can contain different data types in the same list.\n",
        "\n",
        "Example : my_list = [1, \"apple\", 3.14, True]"
      ],
      "metadata": {
        "id": "MWmYoocT-tqJ"
      }
    },
    {
      "cell_type": "markdown",
      "source": [
        "Ques-10>> Explain why strings are immutable in Python?\n",
        "\n",
        "Ans-10>> Strings are immutable in Python to ensure safety and efficiency."
      ],
      "metadata": {
        "id": "d81jqqxy--7R"
      }
    },
    {
      "cell_type": "markdown",
      "source": [
        "Ques-11>> What advantages do dictionaries offer over lists for certain tasks?\n",
        "\n",
        "Ans-11>>\n",
        "\n",
        "*   **Key-value pairs:** Store related data together (like name: age), making data more organized.\n",
        "*   **No fixed order needed:** Useful when order doesn’t matter, unlike lists which are ordered.\n",
        "*   **Unique keys:** Prevent duplicate entries for keys, ensuring data integrity."
      ],
      "metadata": {
        "id": "40XH8hAY_RxY"
      }
    },
    {
      "cell_type": "markdown",
      "source": [
        "Ques-12>>  Describe a scenario where using a tuple would be preferable over a list.\n",
        "\n",
        "Ans-12>> A tuple is preferable over a list when you need to store fixed, unchangeable data that should not be modified accidentally.\n",
        "\n",
        "Example: Use a tuple to store a date, like a birthday\n",
        "birthday = (1998, 01, 28)  # Year, month, day"
      ],
      "metadata": {
        "id": "hkD3Bgnd_xGs"
      }
    },
    {
      "cell_type": "markdown",
      "source": [
        "Ques-13>> How do sets handle duplicate values in Python?\n",
        "\n",
        "Ans-13>> **Sets** automatically remove duplicates. If you try to add a value that is already in the set, it will not be added again."
      ],
      "metadata": {
        "id": "WYviXXjXAXgT"
      }
    },
    {
      "cell_type": "markdown",
      "source": [
        "Ques-14>> How does the “in” keyword work differently for lists and dictionaries?\n",
        "\n",
        "Ans-14>>\n",
        "\n",
        "*   **For list:** Checks if a value exists anywhere in the list.\n",
        "*   **For dictionary:** Checks if a key exists in the dictionary (not the values)."
      ],
      "metadata": {
        "id": "ajmo8RRkAqhP"
      }
    },
    {
      "cell_type": "markdown",
      "source": [
        "Ques-15>> Can you modify the elements of a tuple? Explain why or why not?\n",
        "\n",
        "Ans-15>> No, you cannot modify the elements of a tuple because tuples are immutable."
      ],
      "metadata": {
        "id": "mx4EoYeiBYTe"
      }
    },
    {
      "cell_type": "markdown",
      "source": [
        "Ques-16>> What is a nested dictionary, and give an example of its use case?\n",
        "\n",
        "Ans-16>> A nested dictionary is a dictionary where the values are themselves dictionaries.\n",
        "\n",
        "Example: Storing information about students and their grades in different subjects.\n",
        "\n",
        "students = {\n",
        "  \"Alice\": {\"Math\": 90, \"English\": 85},\n",
        "  \"Bob\": {\"Math\": 75, \"English\": 80}\n",
        "}"
      ],
      "metadata": {
        "id": "Md80dcy3Blbd"
      }
    },
    {
      "cell_type": "markdown",
      "source": [
        "Ques-17>> Describe the time complexity of accessing elements in a dictionary?\n",
        "\n",
        "Ans-17>> Accessing elements in a dictionary has an average time complexity of O(1), meaning it takes constant time regardless of the dictionary size. This is because dictionaries use a hash table, which allows quick lookup by key."
      ],
      "metadata": {
        "id": "eJqmIernB712"
      }
    },
    {
      "cell_type": "markdown",
      "source": [
        "Ques-18>>  In what situations are lists preferred over dictionaries?\n",
        "\n",
        "Ans-18>> Lists are preferred over dictionaries when:\n",
        "\n",
        "\n",
        "*   You need ordered data that keeps the sequence of items.\n",
        "*   You want to store duplicate values.\n",
        "*   The data is simple and doesn’t require key-value pairs.\n",
        "\n",
        "\n",
        "\n"
      ],
      "metadata": {
        "id": "1aSUDx8RCiHb"
      }
    },
    {
      "cell_type": "markdown",
      "source": [
        "Ques-19>> Why are dictionaries considered unordered, and how does that affect data retrieval?\n",
        "\n",
        "Ans-19>> Dictionaries are considered unordered because they store data based on hash values of keys, not the order items were added.\n",
        "\n",
        "Effect on data retrieval:\n",
        "*   You cannot rely on the order of items when looping through a dictionary.\n",
        "*   Data is accessed by key so order does not matter for lookups.\n",
        "\n"
      ],
      "metadata": {
        "id": "mERV4Ym4C76Q"
      }
    },
    {
      "cell_type": "markdown",
      "source": [
        "Ques-20>> Explain the difference between a list and a dictionary in terms of data retrieval.\n",
        "\n",
        "Ans-20>>\n",
        "\n",
        "*   **List** retrieve items by their index (position).\n",
        "*   **Dictionary** retrieve items by their key (a unique identifier)."
      ],
      "metadata": {
        "id": "X_zHErxzDcrs"
      }
    },
    {
      "cell_type": "markdown",
      "source": [
        "# **Practical Questions**"
      ],
      "metadata": {
        "id": "66nJgEnxD1-H"
      }
    },
    {
      "cell_type": "code",
      "source": [
        "# Ques-1>> Write a code to create a string with your name and print it.\n",
        "name = \"Pawan\"\n",
        "print(name)"
      ],
      "metadata": {
        "colab": {
          "base_uri": "https://localhost:8080/"
        },
        "id": "EYZ6yDiZD7wr",
        "outputId": "463de757-4a94-4ef9-9a57-5e4a4ad1e287"
      },
      "execution_count": 69,
      "outputs": [
        {
          "output_type": "stream",
          "name": "stdout",
          "text": [
            "Pawan\n"
          ]
        }
      ]
    },
    {
      "cell_type": "code",
      "source": [
        "# Ques-2>> Write a code to find the length of the string \"Hello World\".\n",
        "string = \"Hello World\"\n",
        "print(len(string))"
      ],
      "metadata": {
        "colab": {
          "base_uri": "https://localhost:8080/"
        },
        "id": "x1IFYtuoGmJd",
        "outputId": "e3cdb88c-7771-455c-b06a-904ce213dc54"
      },
      "execution_count": 70,
      "outputs": [
        {
          "output_type": "stream",
          "name": "stdout",
          "text": [
            "11\n"
          ]
        }
      ]
    },
    {
      "cell_type": "code",
      "source": [
        "# Ques-3>> Write a code to slice the first 3 characters from the string \"Python Programming\".\n",
        "string = \"Python Programming\"\n",
        "print(string[:3])"
      ],
      "metadata": {
        "colab": {
          "base_uri": "https://localhost:8080/"
        },
        "id": "as7D4VrqGuhj",
        "outputId": "0e1195f0-27a0-466a-c1c6-5e594200d9ae"
      },
      "execution_count": 71,
      "outputs": [
        {
          "output_type": "stream",
          "name": "stdout",
          "text": [
            "Pyt\n"
          ]
        }
      ]
    },
    {
      "cell_type": "code",
      "source": [
        "# Ques-4>> Write a code to convert the string \"hello\" to uppercase.\n",
        "string = \"hello\"\n",
        "print(string.upper())"
      ],
      "metadata": {
        "colab": {
          "base_uri": "https://localhost:8080/"
        },
        "id": "LBkm7kdvG3FS",
        "outputId": "15ce0ffe-3c16-4a96-d8c7-a1c25e169859"
      },
      "execution_count": 72,
      "outputs": [
        {
          "output_type": "stream",
          "name": "stdout",
          "text": [
            "HELLO\n"
          ]
        }
      ]
    },
    {
      "cell_type": "code",
      "source": [
        "# Ques-5>> Write a code to replace the word \"apple\" with \"orange\" in the string \"I like apple\".\n",
        "string = \"I like apple\"\n",
        "print(string.replace(\"apple\", \"orange\"))"
      ],
      "metadata": {
        "colab": {
          "base_uri": "https://localhost:8080/"
        },
        "id": "biSMxi53G_3t",
        "outputId": "64479ec3-6b04-4980-9160-1772eff24ec5"
      },
      "execution_count": 73,
      "outputs": [
        {
          "output_type": "stream",
          "name": "stdout",
          "text": [
            "I like orange\n"
          ]
        }
      ]
    },
    {
      "cell_type": "code",
      "source": [
        "# Ques-6>> Write a code to create a list with numbers 1 to 5 and print it.\n",
        "list = [1, 2, 3, 4, 5]\n",
        "print(list)"
      ],
      "metadata": {
        "colab": {
          "base_uri": "https://localhost:8080/"
        },
        "id": "OlUPGpv_HHCL",
        "outputId": "9369e165-be70-4be7-8f14-3c8260638e8d"
      },
      "execution_count": 74,
      "outputs": [
        {
          "output_type": "stream",
          "name": "stdout",
          "text": [
            "[1, 2, 3, 4, 5]\n"
          ]
        }
      ]
    },
    {
      "cell_type": "code",
      "source": [
        "# Ques-7>> Write a code to append the number 10 to the list [1, 2, 3, 4].\n",
        "list = [1, 2, 3, 4]\n",
        "list.append(10)\n",
        "print(list)"
      ],
      "metadata": {
        "colab": {
          "base_uri": "https://localhost:8080/"
        },
        "id": "v12X7LsEHMHK",
        "outputId": "ad5bb91d-84f5-40c4-8b7d-d94c15425731"
      },
      "execution_count": 75,
      "outputs": [
        {
          "output_type": "stream",
          "name": "stdout",
          "text": [
            "[1, 2, 3, 4, 10]\n"
          ]
        }
      ]
    },
    {
      "cell_type": "code",
      "source": [
        "# Ques-8>> Write a code to remove the number 3 from the list [1, 2, 3, 4, 5].\n",
        "list = [1, 2, 3, 4, 5]\n",
        "list.remove(3)\n",
        "print(list)"
      ],
      "metadata": {
        "colab": {
          "base_uri": "https://localhost:8080/"
        },
        "id": "H4O6JKgzHSiC",
        "outputId": "dbf74bbf-77e5-45d2-f436-50e8e5f79057"
      },
      "execution_count": 76,
      "outputs": [
        {
          "output_type": "stream",
          "name": "stdout",
          "text": [
            "[1, 2, 4, 5]\n"
          ]
        }
      ]
    },
    {
      "cell_type": "code",
      "source": [
        "# Ques-9>> Write a code to access the second element in the list ['a', 'b', 'c', 'd'].\n",
        "list = ['a', 'b', 'c', 'd']\n",
        "print(list[1])"
      ],
      "metadata": {
        "colab": {
          "base_uri": "https://localhost:8080/"
        },
        "id": "ITT8tQy9HtrU",
        "outputId": "603535a9-370d-4c56-a8cd-ea114fdaf803"
      },
      "execution_count": 77,
      "outputs": [
        {
          "output_type": "stream",
          "name": "stdout",
          "text": [
            "b\n"
          ]
        }
      ]
    },
    {
      "cell_type": "code",
      "source": [
        "# Ques-10>> Write a code to reverse the list [10, 20, 30, 40, 50].\n",
        "list = [10, 20, 30, 40, 50]\n",
        "print(list[::-1])"
      ],
      "metadata": {
        "colab": {
          "base_uri": "https://localhost:8080/"
        },
        "id": "5Y0Ta8DrH1Gq",
        "outputId": "5cdee249-19ec-4664-fb9e-e34a02d419bf"
      },
      "execution_count": 78,
      "outputs": [
        {
          "output_type": "stream",
          "name": "stdout",
          "text": [
            "[50, 40, 30, 20, 10]\n"
          ]
        }
      ]
    },
    {
      "cell_type": "code",
      "source": [
        "# Ques-11>> Write a code to create a tuple with the elements 100, 200, 300 and print it.\n",
        "tuple = (100, 200, 300)\n",
        "print(tuple)"
      ],
      "metadata": {
        "colab": {
          "base_uri": "https://localhost:8080/"
        },
        "id": "lIIHkTGzJeSC",
        "outputId": "b12e2d42-5a75-4195-f9cc-cdfa0f7490a6"
      },
      "execution_count": 79,
      "outputs": [
        {
          "output_type": "stream",
          "name": "stdout",
          "text": [
            "(100, 200, 300)\n"
          ]
        }
      ]
    },
    {
      "cell_type": "code",
      "source": [
        "# Ques-12>> Write a code to access the second-to-last element of the tuple ('red', 'green', 'blue', 'yellow').\n",
        "tuple = ('red', 'green', 'blue', 'yellow')\n",
        "print(tuple[2])"
      ],
      "metadata": {
        "colab": {
          "base_uri": "https://localhost:8080/"
        },
        "id": "vsYg0NLDJ32g",
        "outputId": "88776364-fb7e-4faf-e2e6-cff99aef38dc"
      },
      "execution_count": 80,
      "outputs": [
        {
          "output_type": "stream",
          "name": "stdout",
          "text": [
            "blue\n"
          ]
        }
      ]
    },
    {
      "cell_type": "code",
      "source": [
        "# Ques-13>> Ques-13>> Write a code to find the minimum number in the tuple (10, 20, 5, 15).\n",
        "tuple = (10, 20, 5, 15)\n",
        "print(min(tuple))"
      ],
      "metadata": {
        "colab": {
          "base_uri": "https://localhost:8080/"
        },
        "id": "50BZRzdSKZ49",
        "outputId": "0dff3e5a-e0a2-46c7-f899-53d3217465a5"
      },
      "execution_count": 81,
      "outputs": [
        {
          "output_type": "stream",
          "name": "stdout",
          "text": [
            "5\n"
          ]
        }
      ]
    },
    {
      "cell_type": "code",
      "source": [
        "# Ques-14>> Write a code to find the index of the element \"cat\" in the tuple ('dog', 'cat', 'rabbit').\n",
        "tuple = ('dog', 'cat', 'rabbit')\n",
        "print(tuple.index('cat'))"
      ],
      "metadata": {
        "colab": {
          "base_uri": "https://localhost:8080/"
        },
        "id": "UIx-iS04KwBE",
        "outputId": "19287f7d-7ffb-40da-e1a5-e854daac53fe"
      },
      "execution_count": 82,
      "outputs": [
        {
          "output_type": "stream",
          "name": "stdout",
          "text": [
            "1\n"
          ]
        }
      ]
    },
    {
      "cell_type": "code",
      "source": [
        "# Ques-15>> Write a code to create a tuple containing three different fruits and check if \"kiwi\" is in it.\n",
        "fruits = (\"apple\", \"banana\", \"orange\")\n",
        "\n",
        "if \"kiwi\" in fruits:\n",
        "    print(\"kiwi is in the tuple\")\n",
        "else:\n",
        "    print(\"kiwi is not in the tuple\")"
      ],
      "metadata": {
        "colab": {
          "base_uri": "https://localhost:8080/"
        },
        "id": "AXFQolXIK5lt",
        "outputId": "f4539c20-ee6e-46b9-8fff-db5df246c584"
      },
      "execution_count": 83,
      "outputs": [
        {
          "output_type": "stream",
          "name": "stdout",
          "text": [
            "kiwi is not in the tuple\n"
          ]
        }
      ]
    },
    {
      "cell_type": "code",
      "source": [
        "# Ques-16>> Write a code to create a set with the elements 'a', 'b', 'c' and print it.\n",
        "my_set = {'a', 'b', 'c'}\n",
        "print(my_set)"
      ],
      "metadata": {
        "colab": {
          "base_uri": "https://localhost:8080/"
        },
        "id": "Celi1MMRLhqH",
        "outputId": "b791487a-3751-4ff8-f836-50929db21cd7"
      },
      "execution_count": 100,
      "outputs": [
        {
          "output_type": "stream",
          "name": "stdout",
          "text": [
            "{'a', 'c', 'b'}\n"
          ]
        }
      ]
    },
    {
      "cell_type": "code",
      "source": [
        "# Ques-17>> Write a code to clear all elements from the set {1, 2, 3, 4, 5}.\n",
        "my_set = {1, 2, 3, 4, 5}\n",
        "my_set.clear()"
      ],
      "metadata": {
        "id": "IHYBjjVILvrK"
      },
      "execution_count": 107,
      "outputs": []
    },
    {
      "cell_type": "code",
      "source": [
        "# Ques-18>> Write a code to remove the element 4 from the set {1, 2, 3, 4}.\n",
        "my_set = {1, 2, 3, 4}\n",
        "my_set.remove(4)\n",
        "print(my_set)"
      ],
      "metadata": {
        "colab": {
          "base_uri": "https://localhost:8080/"
        },
        "id": "TDqC8etJMIzv",
        "outputId": "b19a8151-23cd-4cfa-fded-86276fe62ecf"
      },
      "execution_count": 105,
      "outputs": [
        {
          "output_type": "stream",
          "name": "stdout",
          "text": [
            "{1, 2, 3}\n"
          ]
        }
      ]
    },
    {
      "cell_type": "code",
      "source": [
        "# Ques-19>> Write a code to find the union of two sets {1, 2, 3} and {3, 4, 5}.\n",
        "Set_A = {1, 2, 3}\n",
        "Set_B = {3, 4, 5}\n",
        "print(Set_A.union(Set_B))"
      ],
      "metadata": {
        "colab": {
          "base_uri": "https://localhost:8080/"
        },
        "id": "pAZG0t6YMdYS",
        "outputId": "29d62ab2-31ec-4cc4-e5ca-18e1b6698f61"
      },
      "execution_count": 87,
      "outputs": [
        {
          "output_type": "stream",
          "name": "stdout",
          "text": [
            "{1, 2, 3, 4, 5}\n"
          ]
        }
      ]
    },
    {
      "cell_type": "code",
      "source": [
        "# Ques-20>> Write a code to find the intersection of two sets {1, 2, 3} and {2, 3, 4}.\n",
        "set_A = {1, 2, 3}\n",
        "set_B = {2, 3, 4}\n",
        "print(set_A.intersection(set_B))"
      ],
      "metadata": {
        "colab": {
          "base_uri": "https://localhost:8080/"
        },
        "id": "-WG6q6j_MtT7",
        "outputId": "02e4a7a1-1fbe-4dd0-ca54-4bb21b185797"
      },
      "execution_count": 88,
      "outputs": [
        {
          "output_type": "stream",
          "name": "stdout",
          "text": [
            "{2, 3}\n"
          ]
        }
      ]
    },
    {
      "cell_type": "code",
      "source": [
        "# Ques-21>> Write a code to create a dictionary with the keys \"name\", \"age\", and \"city\", and print it.\n",
        "dict = {\"name\": \"Pawan\", \"age\": 27, \"city\":\"Delhi\"}\n",
        "print(dict)"
      ],
      "metadata": {
        "colab": {
          "base_uri": "https://localhost:8080/"
        },
        "id": "vowm85i3NCqh",
        "outputId": "3b257ecb-128f-4f02-9289-bb3388c458b7"
      },
      "execution_count": 89,
      "outputs": [
        {
          "output_type": "stream",
          "name": "stdout",
          "text": [
            "{'name': 'Pawan', 'age': 27, 'city': 'Delhi'}\n"
          ]
        }
      ]
    },
    {
      "cell_type": "code",
      "source": [
        "# Ques-22>> Write a code to add a new key-value pair \"country\": \"USA\" to the dictionary {'name': 'John', 'age': 25}.\n",
        "dict = {'name': 'John', 'age': 25}\n",
        "dict[\"country\"] = \"USA\"\n",
        "print(dict)"
      ],
      "metadata": {
        "colab": {
          "base_uri": "https://localhost:8080/"
        },
        "id": "kujW2v8cOFwm",
        "outputId": "86988f87-98ff-4ab5-c8c5-242fa75a4879"
      },
      "execution_count": 90,
      "outputs": [
        {
          "output_type": "stream",
          "name": "stdout",
          "text": [
            "{'name': 'John', 'age': 25, 'country': 'USA'}\n"
          ]
        }
      ]
    },
    {
      "cell_type": "code",
      "source": [
        "# Ques-23>> Write a code to access the value associated with the key \"name\" in the dictionary {'name': 'Alice', 'age': 30}.\n",
        "dict = {'name': 'Alice', 'age': 30}\n",
        "print(dict[\"name\"])"
      ],
      "metadata": {
        "colab": {
          "base_uri": "https://localhost:8080/"
        },
        "id": "pwNn8t11OTxb",
        "outputId": "c061f173-1b53-41e5-8e2c-22c73b7eab97"
      },
      "execution_count": 91,
      "outputs": [
        {
          "output_type": "stream",
          "name": "stdout",
          "text": [
            "Alice\n"
          ]
        }
      ]
    },
    {
      "cell_type": "code",
      "source": [
        "# Ques-24>> Write a code to remove the key \"age\" from the dictionary {'name': 'Bob', 'age': 22, 'city': 'New York'}.\n",
        "dict = {'name': 'Bob', 'age': 22, 'city': 'New York'}\n",
        "del dict[\"age\"]\n",
        "print(dict)"
      ],
      "metadata": {
        "colab": {
          "base_uri": "https://localhost:8080/"
        },
        "id": "TPXk0YKoOlJp",
        "outputId": "cbfc9c4f-a1f3-4cbc-95b7-d8db58002da4"
      },
      "execution_count": 92,
      "outputs": [
        {
          "output_type": "stream",
          "name": "stdout",
          "text": [
            "{'name': 'Bob', 'city': 'New York'}\n"
          ]
        }
      ]
    },
    {
      "cell_type": "code",
      "source": [
        "# Ques-25>> Write a code to check if the key \"city\" exists in the dictionary {'name': 'Alice', 'city': 'Paris'}.\n",
        "dict = {'name': 'Alice', 'city': 'Paris'}\n",
        "if \"city\" in dict:\n",
        "    print(\"city exists in the dictionary\")\n",
        "else:\n",
        "    print(\"city does not exist in the dictionary\")"
      ],
      "metadata": {
        "colab": {
          "base_uri": "https://localhost:8080/"
        },
        "id": "5BE9Vo7APW8l",
        "outputId": "af3c4b07-2b19-412d-c242-50240dd2b823"
      },
      "execution_count": 93,
      "outputs": [
        {
          "output_type": "stream",
          "name": "stdout",
          "text": [
            "city exists in the dictionary\n"
          ]
        }
      ]
    },
    {
      "cell_type": "code",
      "source": [
        "# Ques-26>> Write a code to create a list, a tuple, and a dictionary, and print them all.\n",
        "list = [1, 2, 3, 4, 5]\n",
        "tuple = (1, 2, 3, 4, 5)\n",
        "dict = {\"name\": \"Pawan\", \"age\": 27, \"city\":\"Delhi\"}\n",
        "print(list)\n",
        "print(tuple)\n",
        "print(dict)"
      ],
      "metadata": {
        "colab": {
          "base_uri": "https://localhost:8080/"
        },
        "id": "w9zls-tXPgzZ",
        "outputId": "f7d96bf9-6131-4caa-db5f-b902876d8e84"
      },
      "execution_count": 94,
      "outputs": [
        {
          "output_type": "stream",
          "name": "stdout",
          "text": [
            "[1, 2, 3, 4, 5]\n",
            "(1, 2, 3, 4, 5)\n",
            "{'name': 'Pawan', 'age': 27, 'city': 'Delhi'}\n"
          ]
        }
      ]
    },
    {
      "cell_type": "code",
      "source": [
        "# Ques-27>> Write a code to create a list of 5 random numbers between 1 and 100, sort it in ascending order, and print the result.(replaced)\n",
        "import random\n",
        "list = []\n",
        "for i in range(5):\n",
        "    list.append(random.randint(1, 100))\n",
        "list.sort()\n",
        "print(list)"
      ],
      "metadata": {
        "colab": {
          "base_uri": "https://localhost:8080/"
        },
        "id": "bWfApIKbP5wc",
        "outputId": "b2943682-9398-44bc-c748-8e823af30ead"
      },
      "execution_count": 95,
      "outputs": [
        {
          "output_type": "stream",
          "name": "stdout",
          "text": [
            "[19, 22, 76, 98, 99]\n"
          ]
        }
      ]
    },
    {
      "cell_type": "code",
      "source": [
        "# Ques-28>> Write a code to create a list with strings and print the element at the third index.\n",
        "list = [\"apple\", \"banana\", \"orange\", \"grape\", \"kiwi\"]\n",
        "print(list[3])"
      ],
      "metadata": {
        "colab": {
          "base_uri": "https://localhost:8080/"
        },
        "id": "bFS9Cv_7Qb4X",
        "outputId": "1ff466fd-71bf-4d77-a9e3-bc791b0cbae2"
      },
      "execution_count": 96,
      "outputs": [
        {
          "output_type": "stream",
          "name": "stdout",
          "text": [
            "grape\n"
          ]
        }
      ]
    },
    {
      "cell_type": "code",
      "source": [
        "# Ques-29>> Write a code to combine two dictionaries into one and print the result.\n",
        "dict_1 = {\"name\": \"Pawan\", \"age\": 27, \"city\":\"Delhi\"}\n",
        "dict_2 = {\"country\": \"India\", \"state\": \"Delhi\"}\n",
        "dict_1.update(dict_2)\n",
        "print(dict_1)"
      ],
      "metadata": {
        "colab": {
          "base_uri": "https://localhost:8080/"
        },
        "id": "VE68aVUzQsWU",
        "outputId": "ebabf1c6-30d2-422c-a4ed-12fd522da6a0"
      },
      "execution_count": 97,
      "outputs": [
        {
          "output_type": "stream",
          "name": "stdout",
          "text": [
            "{'name': 'Pawan', 'age': 27, 'city': 'Delhi', 'country': 'India', 'state': 'Delhi'}\n"
          ]
        }
      ]
    },
    {
      "cell_type": "code",
      "source": [
        "# Ques-30>> Write a code to convert a list of strings into a set.\n",
        "my_list = [\"apple\", \"banana\", \"orange\", \"grape\", \"kiwi\"]\n",
        "my_set = set(my_list)\n",
        "print(my_set)"
      ],
      "metadata": {
        "colab": {
          "base_uri": "https://localhost:8080/",
          "height": 193
        },
        "id": "i4zMZVInQ2gy",
        "outputId": "c8a5a8ad-97eb-405b-af60-5f19d615fe5d"
      },
      "execution_count": 112,
      "outputs": [
        {
          "output_type": "error",
          "ename": "TypeError",
          "evalue": "'set' object is not callable",
          "traceback": [
            "\u001b[0;31m---------------------------------------------------------------------------\u001b[0m",
            "\u001b[0;31mTypeError\u001b[0m                                 Traceback (most recent call last)",
            "\u001b[0;32m/tmp/ipython-input-112-2036236756.py\u001b[0m in \u001b[0;36m<cell line: 0>\u001b[0;34m()\u001b[0m\n\u001b[1;32m      1\u001b[0m \u001b[0;31m# Ques-30>> Write a code to convert a list of strings into a set.\u001b[0m\u001b[0;34m\u001b[0m\u001b[0;34m\u001b[0m\u001b[0m\n\u001b[1;32m      2\u001b[0m \u001b[0mmy_list\u001b[0m \u001b[0;34m=\u001b[0m \u001b[0;34m[\u001b[0m\u001b[0;34m\"apple\"\u001b[0m\u001b[0;34m,\u001b[0m \u001b[0;34m\"banana\"\u001b[0m\u001b[0;34m,\u001b[0m \u001b[0;34m\"orange\"\u001b[0m\u001b[0;34m,\u001b[0m \u001b[0;34m\"grape\"\u001b[0m\u001b[0;34m,\u001b[0m \u001b[0;34m\"kiwi\"\u001b[0m\u001b[0;34m]\u001b[0m\u001b[0;34m\u001b[0m\u001b[0;34m\u001b[0m\u001b[0m\n\u001b[0;32m----> 3\u001b[0;31m \u001b[0mmy_set\u001b[0m \u001b[0;34m=\u001b[0m \u001b[0mset\u001b[0m\u001b[0;34m(\u001b[0m\u001b[0mmy_list\u001b[0m\u001b[0;34m)\u001b[0m\u001b[0;34m\u001b[0m\u001b[0;34m\u001b[0m\u001b[0m\n\u001b[0m\u001b[1;32m      4\u001b[0m \u001b[0mprint\u001b[0m\u001b[0;34m(\u001b[0m\u001b[0mmy_set\u001b[0m\u001b[0;34m)\u001b[0m\u001b[0;34m\u001b[0m\u001b[0;34m\u001b[0m\u001b[0m\n",
            "\u001b[0;31mTypeError\u001b[0m: 'set' object is not callable"
          ]
        }
      ]
    },
    {
      "cell_type": "code",
      "source": [],
      "metadata": {
        "id": "U5eyJkaxTdH7"
      },
      "execution_count": null,
      "outputs": []
    }
  ]
}