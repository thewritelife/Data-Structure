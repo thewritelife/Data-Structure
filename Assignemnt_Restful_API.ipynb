{
  "nbformat": 4,
  "nbformat_minor": 0,
  "metadata": {
    "colab": {
      "provenance": []
    },
    "kernelspec": {
      "name": "python3",
      "display_name": "Python 3"
    },
    "language_info": {
      "name": "python"
    }
  },
  "cells": [
    {
      "cell_type": "markdown",
      "source": [
        "# Restful API & Flask"
      ],
      "metadata": {
        "id": "KNZN5Sj4-gGZ"
      }
    },
    {
      "cell_type": "markdown",
      "source": [
        "Ques-1>> What is a RESTful API?\n",
        "\n",
        "Ans-1>> A RESTful API is a web service that follows REST (Representational State Transfer) principles. It uses standard HTTP methods (GET, POST, PUT, DELETE) to perform CRUD operations (Create, Read, Update, Delete) on resources, usually represented in JSON format."
      ],
      "metadata": {
        "id": "sZMsinAk-rah"
      }
    },
    {
      "cell_type": "markdown",
      "source": [
        "Ques-2>> Explain the concept of API specification.\n",
        "\n",
        "Ans-2>> An API specification is a detailed description of how an API works. It defines the endpoints, HTTP methods, request/response formats, parameters, and authentication rules, helping developers understand how to interact with the API correctly. Tools like OpenAPI (Swagger) are commonly used for writing API specs."
      ],
      "metadata": {
        "id": "x-dKZd1r_DQj"
      }
    },
    {
      "cell_type": "markdown",
      "source": [
        "Ques-3>> What is Flask, and why is it popular for building APIs?\n",
        "\n",
        "Ans-3>> Flask is a lightweight Python web framework used to build web apps and APIs. It's popular because it's:\n",
        "\n",
        "1.   Simple and flexible\n",
        "2.   Requires minimal setup\n",
        "3.   Easy to extend with plugins\n",
        "4.   Ideal for building small to medium-sized APIs quickly\n",
        "5.   It gives developers full control without much boilerplate."
      ],
      "metadata": {
        "id": "pU5CgabT_HdE"
      }
    },
    {
      "cell_type": "markdown",
      "source": [
        "Ques-4>> What is routing in Flask?\n",
        "\n",
        "Ans-4>> Routing in Flask is the process of defining URL paths that trigger specific functions (called view functions). It connects a URL to a Python function using the @app.route() decorator."
      ],
      "metadata": {
        "id": "NM76HxIh_xKx"
      }
    },
    {
      "cell_type": "markdown",
      "source": [
        "Ques-5>>  How do you create a simple Flask application?\n",
        "\n",
        "Ans-5>> To create a simple Flask application:\n",
        "\n",
        "1.   Import Flask\n",
        "2.   Create an app instance\n",
        "3.   Define a route with a function\n",
        "4.   Run the app\n",
        "\n",
        "Example (in theory):\n",
        "*   Import: from flask import Flask\n",
        "*   Create app: app = Flask(__name__)\n",
        "*   Route: @app.route('/') with a function returning a message\n",
        "*   Run: app.run()"
      ],
      "metadata": {
        "id": "AKb4eF33CBwP"
      }
    },
    {
      "cell_type": "markdown",
      "source": [
        "Ques-6>> What are HTTP methods used in RESTful APIs?\n",
        "\n",
        "Ans-6>> The main HTTP methods used in RESTful APIs are:\n",
        "\n",
        "*   GET — Retrieve data\n",
        "*   POST — Create new data\n",
        "*   PUT — Update existing data\n",
        "*   DELETE — Remove data\n",
        "*   PATCH — Partially update data\n",
        "These methods map to CRUD operations."
      ],
      "metadata": {
        "id": "W0fDo_L1C2Zg"
      }
    },
    {
      "cell_type": "markdown",
      "source": [
        "Ques-7>> What is the purpose of the @app.route() decorator in Flask?\n",
        "\n",
        "Ans-7>> The @app.route() decorator in Flask maps a URL path to a Python function, so when that URL is accessed, the function runs and returns a response. It defines the route for handling web requests."
      ],
      "metadata": {
        "id": "cdYkiYqDDSLs"
      }
    },
    {
      "cell_type": "markdown",
      "source": [
        "Ques-8>> What is the difference between GET and POST HTTP methods?\n",
        "\n",
        "Ans-8??\n",
        "\n",
        "*   **GET** requests retrieve data from the server and should have no side effects. Data is sent in the URL.\n",
        "*   POST requests send data to the server to create or update resources. Data is sent in the request body."
      ],
      "metadata": {
        "id": "rFecQGjkDeYr"
      }
    },
    {
      "cell_type": "markdown",
      "source": [
        "Ques-9>> How do you handle errors in Flask APIs?\n",
        "\n",
        "Ans-9>> In Flask APIs, errors are handled by:\n",
        "\n",
        "*   Using try-except blocks in your code to catch exceptions.\n",
        "*   Returning appropriate HTTP status codes (e.g., 404 for not found, 400 for bad request).\n",
        "*   Using Flask’s @app.errorhandler() decorator to define custom error responses."
      ],
      "metadata": {
        "id": "73nq-_PNDsMT"
      }
    },
    {
      "cell_type": "markdown",
      "source": [
        "Ques-10>>  How do you connect Flask to a SQL database?\n",
        "\n",
        "Ans-10>> To connect Flask to a SQL database, you typically:\n",
        "\n",
        "1.   Use a database driver like sqlite3 or a library like SQLAlchemy.\n",
        "2.   Configure the database URI in Flask (e.g., app.config['SQLALCHEMY_DATABASE_URI'] = 'sqlite:///mydb.db').\n",
        "3.   Initialize the database connection in your app.\n",
        "4.   Use ORM (like SQLAlchemy) or raw SQL queries to interact with the database."
      ],
      "metadata": {
        "id": "GTC1wqm4D91h"
      }
    },
    {
      "cell_type": "markdown",
      "source": [
        "Ques-11>> What is the role of Flask-SQLAlchemy?\n",
        "\n",
        "Ans-11>> Flask-SQLAlchemy is an extension that simplifies using SQLAlchemy (a powerful ORM) with Flask. It helps by:\n",
        "\n",
        "*   Integrating SQLAlchemy smoothly into Flask apps\n",
        "*   Managing database connections and sessions\n",
        "*   Providing an easy way to define database models as Python classes\n",
        "*   Simplifying database operations without writing raw SQL\n",
        "\n",
        "In short, it makes working with databases in Flask easier and more Pythonic."
      ],
      "metadata": {
        "id": "s_YjZ4rQEYHi"
      }
    },
    {
      "cell_type": "markdown",
      "source": [
        "Ques-12>> What are Flask blueprints, and how are they useful?\n",
        "\n",
        "Ans-12>> Flask Blueprints are a way to organize a Flask app into smaller, reusable components or modules. They help by:\n",
        "\n",
        "*   Structuring large applications better\n",
        "*   Grouping related routes, templates, and static files\n",
        "*   Making code more modular and easier to maintain\n",
        "*   Allowing you to register parts of an app separately\n",
        "\n",
        "Basically, blueprints help scale Flask apps cleanly."
      ],
      "metadata": {
        "id": "B8KStR0jEuk7"
      }
    },
    {
      "cell_type": "markdown",
      "source": [
        "Ques-13>> What is the purpose of Flask's request object?\n",
        "\n",
        "Ans-13>> Flask’s request object represents the incoming HTTP request. It provides access to:\n",
        "\n",
        "*   Data sent by the client (form data, JSON, query parameters)\n",
        "*   Request headers\n",
        "*   HTTP method (GET, POST, etc.)\n",
        "*   Cookies and more\n",
        "\n",
        "It lets you read what the client sent to your Flask app."
      ],
      "metadata": {
        "id": "Hx1vozgHFD9G"
      }
    },
    {
      "cell_type": "markdown",
      "source": [
        "Ques-14>> How do you create a RESTful API endpoint using Flask?\n",
        "\n",
        "Ans-14>> To create a RESTful API endpoint in Flask:\n",
        "\n",
        "1.   Define a route using @app.route() with the URL path.\n",
        "2.   Specify allowed HTTP methods (methods=['GET', 'POST', etc.]).\n",
        "3.   Write a function that handles the request and returns data (usually JSON)."
      ],
      "metadata": {
        "id": "s4fzv1gEFhh2"
      }
    },
    {
      "cell_type": "markdown",
      "source": [
        "Ques-15>> What is the purpose of Flask's jsonify() function?\n",
        "\n",
        "Ans-15>> Flask’s jsonify() function converts Python data (like dictionaries or lists) into a JSON-formatted HTTP response with the correct content-type (application/json). It’s used to send JSON responses easily from API endpoints."
      ],
      "metadata": {
        "id": "w-4ImHNOFx6h"
      }
    },
    {
      "cell_type": "markdown",
      "source": [
        "Ques-16>>  Explain Flask’s url_for() function.\n",
        "\n",
        "Ans-16>> Flask’s url_for() function generates the URL for a given function name (endpoint). It helps avoid hardcoding URLs by building them dynamically, which is useful for linking routes and handling URL changes easily."
      ],
      "metadata": {
        "id": "9jJk38LzF6J3"
      }
    },
    {
      "cell_type": "markdown",
      "source": [
        "Ques-17>> How does Flask handle static files (CSS, JavaScript, etc.)?\n",
        "\n",
        "Ans-17>> Flask serves static files from a special folder named static by default. You place CSS, JavaScript, images, etc., inside the static folder, and they can be accessed via URLs like /static/filename.\n",
        "\n",
        "\n",
        "For example, a CSS file at static/style.css is available at http://yourdomain.com/static/style.css.\n",
        "\n",
        "You can also use url_for('static', filename='style.css') to generate the correct URL in templates."
      ],
      "metadata": {
        "id": "pnJFtrmFGEMS"
      }
    },
    {
      "cell_type": "markdown",
      "source": [
        "Ques-18>> What is an API specification, and how does it help in building a Flask API?\n",
        "\n",
        "Ans-18>> An API specification is a formal document that defines how an API works—its endpoints, request/response formats, methods, parameters, and error codes.\n",
        "\n",
        "It helps in building a Flask API by:\n",
        "\n",
        "\n",
        "*   Providing a clear blueprint to design and implement the API\n",
        "*   Ensuring consistent communication between frontend and backend\n",
        "*   Making it easier to test and document the API\n",
        "*   Helping teams collaborate effectively\n",
        "\n",
        "Tools like OpenAPI (Swagger) are often used to write API specs."
      ],
      "metadata": {
        "id": "lo6nAvoSGTmg"
      }
    },
    {
      "cell_type": "markdown",
      "source": [
        "Ques-19>> What are HTTP status codes, and why are they important in a Flask API?\n",
        "\n",
        "Ans-19>> HTTP status codes are numeric codes sent by a server to indicate the result of a client’s request.\n",
        "\n",
        "They are important in a Flask API because they:\n",
        "*   Tell the client whether the request was successful (e.g., 200 OK)\n",
        "*   Indicate errors (e.g., 404 Not Found, 500 Server Error)\n",
        "*   Help clients handle responses properly\n",
        "*   Make the API communication clear and standardized"
      ],
      "metadata": {
        "id": "l919yq43GnuV"
      }
    },
    {
      "cell_type": "markdown",
      "source": [
        "Ques-20>> How do you handle POST requests in Flask?\n",
        "\n",
        "Ans-20>> To handle POST requests in Flask:\n",
        "1.   Define a route with methods=['POST'].\n",
        "2.   Use request.get_json() or request.form to access the sent data.\n",
        "3.   Process the data and return a response."
      ],
      "metadata": {
        "id": "v490rK7CHFdK"
      }
    },
    {
      "cell_type": "markdown",
      "source": [
        "Ques-21>> How would you secure a Flask API?\n",
        "\n",
        "Ans-21>> To secure a Flask API, you can:\n",
        "\n",
        "1.   Use authentication (e.g., API keys, OAuth, JWT tokens) to verify users.\n",
        "2.   Validate and sanitize inputs to prevent injection attacks.\n",
        "3.   Use HTTPS to encrypt data in transit.\n",
        "4.   Implement rate limiting to prevent abuse.\n",
        "5.   Handle errors carefully without exposing sensitive info.\n",
        "6.   Keep dependencies updated and follow security best practices."
      ],
      "metadata": {
        "id": "dZg0o9pYHYjO"
      }
    },
    {
      "cell_type": "markdown",
      "source": [
        "Ques-22>> What is the significance of the Flask-RESTful extension?\n",
        "\n",
        "Ans-22>> Flask-RESTful is an extension that simplifies building RESTful APIs with Flask by providing:\n",
        "\n",
        "*   Classes to represent resources and handle HTTP methods cleanly\n",
        "*   Built-in support for parsing request data and formatting responses\n",
        "*   Tools to organize API endpoints better\n",
        "*   Less boilerplate code compared to plain Flask routes\n",
        "\n",
        "It speeds up API development and improves code structure."
      ],
      "metadata": {
        "id": "JrwsM-ROHxlh"
      }
    },
    {
      "cell_type": "markdown",
      "source": [
        "Ques-23>> What is the role of Flask’s session object?\n",
        "\n",
        "Ans-23>> Flask’s session object stores data specific to a user’s session between requests. It’s used to keep track of information like login status or user preferences by saving data securely (usually in cookies) during a user’s interaction with the app."
      ],
      "metadata": {
        "id": "xGs6XXd-IEgX"
      }
    },
    {
      "cell_type": "markdown",
      "source": [
        "# Practical"
      ],
      "metadata": {
        "id": "dwDAwPqpIO6L"
      }
    },
    {
      "cell_type": "markdown",
      "source": [
        "Ques-1>> How do you create a basic Flask application?\n",
        "\n",
        "Ans-1>>"
      ],
      "metadata": {
        "id": "iQ10FFQaIaAb"
      }
    },
    {
      "cell_type": "code",
      "source": [
        "!pip install flask\n",
        "!pip install pyngrok"
      ],
      "metadata": {
        "colab": {
          "base_uri": "https://localhost:8080/"
        },
        "id": "td9JKSWhIcyj",
        "outputId": "5eb4c540-669f-44ff-d175-8110bfd49b23"
      },
      "execution_count": 6,
      "outputs": [
        {
          "output_type": "stream",
          "name": "stdout",
          "text": [
            "Requirement already satisfied: flask in /usr/local/lib/python3.11/dist-packages (3.1.1)\n",
            "Requirement already satisfied: blinker>=1.9.0 in /usr/local/lib/python3.11/dist-packages (from flask) (1.9.0)\n",
            "Requirement already satisfied: click>=8.1.3 in /usr/local/lib/python3.11/dist-packages (from flask) (8.2.1)\n",
            "Requirement already satisfied: itsdangerous>=2.2.0 in /usr/local/lib/python3.11/dist-packages (from flask) (2.2.0)\n",
            "Requirement already satisfied: jinja2>=3.1.2 in /usr/local/lib/python3.11/dist-packages (from flask) (3.1.6)\n",
            "Requirement already satisfied: markupsafe>=2.1.1 in /usr/local/lib/python3.11/dist-packages (from flask) (3.0.2)\n",
            "Requirement already satisfied: werkzeug>=3.1.0 in /usr/local/lib/python3.11/dist-packages (from flask) (3.1.3)\n",
            "Collecting pyngrok\n",
            "  Downloading pyngrok-7.2.12-py3-none-any.whl.metadata (9.4 kB)\n",
            "Requirement already satisfied: PyYAML>=5.1 in /usr/local/lib/python3.11/dist-packages (from pyngrok) (6.0.2)\n",
            "Downloading pyngrok-7.2.12-py3-none-any.whl (26 kB)\n",
            "Installing collected packages: pyngrok\n",
            "Successfully installed pyngrok-7.2.12\n"
          ]
        }
      ]
    },
    {
      "cell_type": "code",
      "source": [
        "from flask import Flask\n",
        "app = Flask(__name__)\n",
        "\n",
        "@app.route('/')\n",
        "def home():\n",
        "    return \"Hello, Flask from Colab!\"\n",
        "\n",
        "if __name__ == '__main__':\n",
        "    app.run()"
      ],
      "metadata": {
        "colab": {
          "base_uri": "https://localhost:8080/"
        },
        "id": "yQOZhQwkIqro",
        "outputId": "ff8da573-c48f-4ad3-d704-3fef6e6faf9d"
      },
      "execution_count": null,
      "outputs": [
        {
          "output_type": "stream",
          "name": "stdout",
          "text": [
            " * Serving Flask app '__main__'\n",
            " * Debug mode: off\n"
          ]
        },
        {
          "output_type": "stream",
          "name": "stderr",
          "text": [
            "INFO:werkzeug:\u001b[31m\u001b[1mWARNING: This is a development server. Do not use it in a production deployment. Use a production WSGI server instead.\u001b[0m\n",
            " * Running on http://127.0.0.1:5000\n",
            "INFO:werkzeug:\u001b[33mPress CTRL+C to quit\u001b[0m\n"
          ]
        }
      ]
    },
    {
      "cell_type": "code",
      "source": [
        "from pyngrok import ngrok\n",
        "\n",
        "# Open a tunnel on the port your Flask app will use (default 5000)\n",
        "public_url = ngrok.connect(5000)\n",
        "print(f\"Public URL: {public_url}\")\n",
        "\n",
        "# Now run Flask app\n",
        "app.run()"
      ],
      "metadata": {
        "colab": {
          "base_uri": "https://localhost:8080/",
          "height": 106
        },
        "id": "qFf6qAYWI5M7",
        "outputId": "8c4c820c-601e-4fa4-adf7-26bfb9e3bdfc"
      },
      "execution_count": 5,
      "outputs": [
        {
          "output_type": "error",
          "ename": "SyntaxError",
          "evalue": "invalid syntax (ipython-input-5-945115591.py, line 1)",
          "traceback": [
            "\u001b[0;36m  File \u001b[0;32m\"/tmp/ipython-input-5-945115591.py\"\u001b[0;36m, line \u001b[0;32m1\u001b[0m\n\u001b[0;31m    python app.py\u001b[0m\n\u001b[0m           ^\u001b[0m\n\u001b[0;31mSyntaxError\u001b[0m\u001b[0;31m:\u001b[0m invalid syntax\n"
          ]
        }
      ]
    },
    {
      "cell_type": "markdown",
      "source": [
        "Ques-2>> How do you serve static files like images or CSS in Flask?\n",
        "\n",
        "Ans-2>>"
      ],
      "metadata": {
        "id": "CFZNOqfEKGBz"
      }
    },
    {
      "cell_type": "code",
      "source": [
        "!pip install flask\n",
        "!pip install pyngrok"
      ],
      "metadata": {
        "id": "OO7M76fNKwXZ"
      },
      "execution_count": null,
      "outputs": []
    },
    {
      "cell_type": "code",
      "source": [
        "from google.colab import files\n",
        "uploaded = files.upload()"
      ],
      "metadata": {
        "id": "O5NLITcgL38h"
      },
      "execution_count": null,
      "outputs": []
    },
    {
      "cell_type": "code",
      "source": [
        "import os\n",
        "\n",
        "os.makedirs('static', exist_ok=True)\n",
        "for filename in uploaded.keys():\n",
        "    os.rename(filename, os.path.join('static', filename))\n",
        "print(\"Static files moved to /static folder\")"
      ],
      "metadata": {
        "id": "gmWQHXV-L5oV"
      },
      "execution_count": null,
      "outputs": []
    },
    {
      "cell_type": "code",
      "source": [
        "from flask import Flask, url_for\n",
        "from pyngrok import ngrok\n",
        "import threading\n",
        "\n",
        "app = Flask(__name__)\n",
        "\n",
        "@app.route('/')\n",
        "def home():\n",
        "    # Example of linking a static CSS file and showing an image\n",
        "    return f'''\n",
        "    <html>\n",
        "      <head>\n",
        "        <link rel=\"stylesheet\" href=\"{url_for('static', filename='style.css')}\">\n",
        "      </head>\n",
        "      <body>\n",
        "        <h1>Hello from Flask in Colab!</h1>\n",
        "        <img src=\"{url_for('static', filename='logo.png')}\" alt=\"Logo\" width=\"200\">\n",
        "      </body>\n",
        "    </html>\n",
        "    '''\n",
        "\n",
        "def run_app():\n",
        "    app.run(port=5000, use_reloader=False)\n",
        "\n",
        "# Start ngrok tunnel\n",
        "public_url = ngrok.connect(5000)\n",
        "print(f\" * Public URL: {public_url}\")\n",
        "\n",
        "# Run Flask app in a background thread\n",
        "threading.Thread(target=run_app).start()"
      ],
      "metadata": {
        "id": "wiVR70tkL6t-"
      },
      "execution_count": null,
      "outputs": []
    },
    {
      "cell_type": "markdown",
      "source": [
        "Ques-3>> How do you define different routes with different HTTP methods in Flask?\n",
        "\n",
        "Ans-3>>"
      ],
      "metadata": {
        "id": "j4buIdKQMAdT"
      }
    },
    {
      "cell_type": "code",
      "source": [
        "from flask import Flask, request, jsonify\n",
        "\n",
        "app = Flask(__name__)\n",
        "\n",
        "# GET method to retrieve data\n",
        "@app.route('/items', methods=['GET'])\n",
        "def get_items():\n",
        "    items = [\"apple\", \"banana\", \"cherry\"]\n",
        "    return jsonify(items)\n",
        "\n",
        "# POST method to create a new item\n",
        "@app.route('/items', methods=['POST'])\n",
        "def create_item():\n",
        "    new_item = request.get_json()\n",
        "    return jsonify({\"message\": \"Item created\", \"item\": new_item}), 201\n",
        "\n",
        "# PUT method to update an existing item\n",
        "@app.route('/items/<int:item_id>', methods=['PUT'])\n",
        "def update_item(item_id):\n",
        "    updated_item = request.get_json()\n",
        "    return jsonify({\"message\": f\"Item {item_id} updated\", \"item\": updated_item})\n",
        "\n",
        "# DELETE method to remove an item\n",
        "@app.route('/items/<int:item_id>', methods=['DELETE'])\n",
        "def delete_item(item_id):\n",
        "    return jsonify({\"message\": f\"Item {item_id} deleted\"}), 200\n",
        "\n",
        "if __name__ == '__main__':\n",
        "    app.run(debug=True)"
      ],
      "metadata": {
        "id": "q6NahEwEMHT4"
      },
      "execution_count": null,
      "outputs": []
    },
    {
      "cell_type": "markdown",
      "source": [
        "Ques-4>>  How do you render HTML templates in Flask?\n",
        "\n",
        "Ans-4>>"
      ],
      "metadata": {
        "id": "yFcxpLKDMKB2"
      }
    },
    {
      "cell_type": "code",
      "source": [
        "!pip install flask\n",
        "!pip install pyngrok"
      ],
      "metadata": {
        "id": "7hy_b0aOMOyQ"
      },
      "execution_count": null,
      "outputs": []
    },
    {
      "cell_type": "code",
      "source": [
        "from flask import Flask, render_template\n",
        "from pyngrok import ngrok\n",
        "import threading\n",
        "\n",
        "app = Flask(__name__)\n",
        "\n",
        "@app.route('/')\n",
        "def home():\n",
        "    return render_template('home.html', title=\"Flask in Colab\", message=\"Welcome to Flask hosted in Colab!\")\n",
        "\n",
        "def run_app():\n",
        "    app.run(port=5000, use_reloader=False)\n",
        "\n",
        "# Start ngrok to expose the Flask app\n",
        "public_url = ngrok.connect(5000)\n",
        "print(f\" * Public URL: {public_url}\")\n",
        "\n",
        "# Run Flask app in background\n",
        "threading.Thread(target=run_app).start()"
      ],
      "metadata": {
        "id": "iY_EvjIzMYJ_"
      },
      "execution_count": null,
      "outputs": []
    },
    {
      "cell_type": "code",
      "source": [
        "# Create a template directory and add the HTML file\n",
        "import os\n",
        "\n",
        "os.makedirs('templates', exist_ok=True)\n",
        "\n",
        "html_content = \"\"\"\n",
        "<!DOCTYPE html>\n",
        "<html lang=\"en\">\n",
        "<head>\n",
        "    <meta charset=\"UTF-8\">\n",
        "    <meta name=\"viewport\" content=\"width=device-width, initial-scale=1.0\">\n",
        "    <title>{{ title }}</title>\n",
        "</head>\n",
        "<body>\n",
        "    <h1>{{ message }}</h1>\n",
        "</body>\n",
        "</html>\n",
        "\"\"\"\n",
        "\n",
        "# Write the HTML content to a file in the 'templates' folder\n",
        "with open('templates/home.html', 'w') as f:\n",
        "    f.write(html_content)"
      ],
      "metadata": {
        "id": "p8inNNKkMaIu"
      },
      "execution_count": null,
      "outputs": []
    },
    {
      "cell_type": "markdown",
      "source": [
        "Ques-5>> How can you generate URLs for routes in Flask using url_for?\n",
        "\n",
        "Ans-5>>"
      ],
      "metadata": {
        "id": "det1d1lrMcpP"
      }
    },
    {
      "cell_type": "code",
      "source": [
        "from flask import Flask, url_for, render_template\n",
        "\n",
        "app = Flask(__name__)\n",
        "\n",
        "@app.route('/')\n",
        "def home():\n",
        "    return \"Welcome to the Home Page!\"\n",
        "\n",
        "@app.route('/profile/<username>')\n",
        "def profile(username):\n",
        "    return f\"Profile of {username}\"\n",
        "\n",
        "@app.route('/redirect')\n",
        "def redirect_to_home():\n",
        "    # Generating URL dynamically using url_for()\n",
        "    home_url = url_for('home')  # Will generate URL for the 'home' route\n",
        "    profile_url = url_for('profile', username='john')  # Will generate URL for the 'profile' route with a parameter\n",
        "    return f\"\"\"\n",
        "        <h1>Redirecting to Home and Profile</h1>\n",
        "        <p>Go to Home: <a href='{home_url}'>Home</a></p>\n",
        "        <p>Go to John's Profile: <a href='{profile_url}'>John's Profile</a></p>\n",
        "    \"\"\"\n",
        "\n",
        "@app.route('/static-test')\n",
        "def static_test():\n",
        "    # Example of generating URL for a static file (image, css, etc.)\n",
        "    css_url = url_for('static', filename='style.css')  # Assume you have a 'style.css' file in the 'static' folder\n",
        "    return f\"\"\"\n",
        "        <h1>Static File Test</h1>\n",
        "        <link rel=\"stylesheet\" href=\"{css_url}\">\n",
        "        <p>This page includes a static CSS file.</p>\n",
        "    \"\"\"\n",
        "\n",
        "if __name__ == '__main__':\n",
        "    app.run(debug=True)"
      ],
      "metadata": {
        "id": "VIxnQ79yMizz"
      },
      "execution_count": null,
      "outputs": []
    },
    {
      "cell_type": "markdown",
      "source": [
        "Ques-6>> How do you handle forms in Flask?\n",
        "\n",
        "Ans-6>>"
      ],
      "metadata": {
        "id": "TO4VtB3hMs6Y"
      }
    },
    {
      "cell_type": "code",
      "source": [
        "from flask import Flask, render_template, request, redirect, url_for\n",
        "\n",
        "app = Flask(__name__)\n",
        "\n",
        "# Route to display the form\n",
        "@app.route('/login', methods=['GET', 'POST'])\n",
        "def login():\n",
        "    if request.method == 'POST':\n",
        "        username = request.form['username']\n",
        "        password = request.form['password']\n",
        "\n",
        "        # Process the form data (e.g., authentication logic)\n",
        "        if username == 'admin' and password == 'password':\n",
        "            return redirect(url_for('welcome', username=username))\n",
        "        else:\n",
        "            return \"Invalid credentials, please try again.\"\n",
        "\n",
        "    return render_template('login.html')  # Render form on GET request\n",
        "\n",
        "# Route for the welcome page after successful login\n",
        "@app.route('/welcome/<username>')\n",
        "def welcome(username):\n",
        "    return f\"Welcome, {username}!\"\n",
        "\n",
        "if __name__ == '__main__':\n",
        "    app.run(debug=True)"
      ],
      "metadata": {
        "id": "IV2errtPMxML"
      },
      "execution_count": null,
      "outputs": []
    },
    {
      "cell_type": "markdown",
      "source": [
        "Ques-7>>  How can you validate form data in Flask?\n",
        "\n",
        "Ans-7>>"
      ],
      "metadata": {
        "id": "yBdBFHSrM_Lw"
      }
    },
    {
      "cell_type": "code",
      "source": [
        "from flask import Flask, render_template, request, redirect, url_for\n",
        "\n",
        "app = Flask(__name__)\n",
        "\n",
        "@app.route('/login', methods=['GET', 'POST'])\n",
        "def login():\n",
        "    if request.method == 'POST':\n",
        "        username = request.form['username']\n",
        "        password = request.form['password']\n",
        "\n",
        "        # Manual validation\n",
        "        if not username or not password:\n",
        "            return \"Both username and password are required.\"\n",
        "\n",
        "        if len(username) < 3:\n",
        "            return \"Username must be at least 3 characters long.\"\n",
        "\n",
        "        if len(password) < 6:\n",
        "            return \"Password must be at least 6 characters long.\"\n",
        "\n",
        "        # If validation passes, process the login\n",
        "        if username == 'admin' and password == 'password':\n",
        "            return redirect(url_for('welcome', username=username))\n",
        "        else:\n",
        "            return \"Invalid credentials, please try again.\"\n",
        "\n",
        "    return render_template('login.html')\n",
        "\n",
        "@app.route('/welcome/<username>')\n",
        "def welcome(username):\n",
        "    return f\"Welcome, {username}!\"\n",
        "\n",
        "if __name__ == '__main__':\n",
        "    app.run(debug=True)"
      ],
      "metadata": {
        "id": "X0zv4fV7NEVb"
      },
      "execution_count": null,
      "outputs": []
    },
    {
      "cell_type": "markdown",
      "source": [
        "Ques-8>> How do you manage sessions in Flask?\n",
        "\n",
        "Ans-8>>"
      ],
      "metadata": {
        "id": "5t1whApSNG8M"
      }
    },
    {
      "cell_type": "code",
      "source": [
        "from flask import Flask, session, redirect, url_for, request\n",
        "\n",
        "app = Flask(__name__)\n",
        "app.secret_key = 'your_secret_key_here'  # Set a secret key for encryption\n",
        "\n",
        "# Route to set session data\n",
        "@app.route('/login', methods=['POST', 'GET'])\n",
        "def login():\n",
        "    if request.method == 'POST':\n",
        "        # Store user info in the session\n",
        "        session['username'] = request.form['username']\n",
        "        session['logged_in'] = True\n",
        "        return redirect(url_for('dashboard'))\n",
        "    return '''\n",
        "        <form method=\"POST\">\n",
        "            <label for=\"username\">Username:</label>\n",
        "            <input type=\"text\" name=\"username\" required>\n",
        "            <button type=\"submit\">Login</button>\n",
        "        </form>\n",
        "    '''\n",
        "\n",
        "# Route to display session data (e.g., logged-in user)\n",
        "@app.route('/dashboard')\n",
        "def dashboard():\n",
        "    if 'username' in session:\n",
        "        username = session['username']\n",
        "        return f\"Hello, {username}! You are logged in.\"\n",
        "    else:\n",
        "        return redirect(url_for('login'))  # Redirect to login if no session exists\n",
        "\n",
        "# Route to log out and clear session data\n",
        "@app.route('/logout')\n",
        "def logout():\n",
        "    session.pop('username', None)  # Remove 'username' from session\n",
        "    session.pop('logged_in', None)  # Remove 'logged_in' from session\n",
        "    return redirect(url_for('login'))  # Redirect to login page\n",
        "\n",
        "if __name__ == '__main__':\n",
        "    app.run(debug=True)"
      ],
      "metadata": {
        "id": "-1rUFhCyNSny"
      },
      "execution_count": null,
      "outputs": []
    },
    {
      "cell_type": "markdown",
      "source": [
        "Ques-9>>  How do you redirect to a different route in Flask?\n",
        "\n",
        "Ans-9>>"
      ],
      "metadata": {
        "id": "gvRrdiixNU4i"
      }
    },
    {
      "cell_type": "code",
      "source": [
        "from flask import Flask, redirect, url_for\n",
        "\n",
        "app = Flask(__name__)\n",
        "\n",
        "# Route to home page\n",
        "@app.route('/')\n",
        "def home():\n",
        "    return \"Welcome to the Home Page!\"\n",
        "\n",
        "# Route for login\n",
        "@app.route('/login')\n",
        "def login():\n",
        "    return \"Please log in here!\"\n",
        "\n",
        "# Route for dashboard\n",
        "@app.route('/dashboard')\n",
        "def dashboard():\n",
        "    return \"Welcome to your Dashboard!\"\n",
        "\n",
        "# Redirect to the dashboard route from home\n",
        "@app.route('/redirect_to_dashboard')\n",
        "def redirect_to_dashboard():\n",
        "    return redirect(url_for('dashboard'))  # Redirecting to 'dashboard' route\n",
        "\n",
        "# Redirect to login route after some logic (e.g., unsuccessful login)\n",
        "@app.route('/redirect_to_login')\n",
        "def redirect_to_login():\n",
        "    return redirect(url_for('login'))  # Redirecting to 'login' route\n",
        "\n",
        "if __name__ == '__main__':\n",
        "    app.run(debug=True)"
      ],
      "metadata": {
        "id": "TNs1sN_KNas7"
      },
      "execution_count": null,
      "outputs": []
    },
    {
      "cell_type": "markdown",
      "source": [
        "Ques-10>> How do you handle errors in Flask (e.g., 404)?\n",
        "\n",
        "Ans-10>>"
      ],
      "metadata": {
        "id": "GhQGLI2SNdJd"
      }
    },
    {
      "cell_type": "code",
      "source": [
        "from flask import Flask, render_template\n",
        "\n",
        "app = Flask(__name__)\n",
        "\n",
        "# Handle 404 error (Page Not Found)\n",
        "@app.errorhandler(404)\n",
        "def not_found(error):\n",
        "    return render_template('404.html'), 404  # Render a custom 404 page\n",
        "\n",
        "# Handle 500 error (Internal Server Error)\n",
        "@app.errorhandler(500)\n",
        "def internal_error(error):\n",
        "    return render_template('500.html'), 500  # Render a custom 500 page\n",
        "\n",
        "# Normal route to test error handling\n",
        "@app.route('/')\n",
        "def home():\n",
        "    return \"Welcome to the Home Page!\"\n",
        "\n",
        "# Route that intentionally raises an error (500)\n",
        "@app.route('/cause_error')\n",
        "def cause_error():\n",
        "    # This will cause a division by zero error\n",
        "    result = 10 / 0\n",
        "    return f\"Result is {result}\"\n",
        "\n",
        "if __name__ == '__main__':\n",
        "    app.run(debug=True)"
      ],
      "metadata": {
        "id": "vO53l84mNlMR"
      },
      "execution_count": null,
      "outputs": []
    },
    {
      "cell_type": "markdown",
      "source": [
        "Ques-11>> How do you structure a Flask app using Blueprints?\n",
        "\n",
        "Ans-11>>"
      ],
      "metadata": {
        "id": "UD2P55jXNnb5"
      }
    },
    {
      "cell_type": "code",
      "source": [
        "from flask import Flask\n",
        "from .main import main_blueprint\n",
        "from .auth import auth_blueprint\n",
        "\n",
        "def create_app():\n",
        "    app = Flask(__name__)\n",
        "\n",
        "    # Register Blueprints\n",
        "    app.register_blueprint(main_blueprint)\n",
        "    app.register_blueprint(auth_blueprint, url_prefix='/auth')\n",
        "\n",
        "    return app"
      ],
      "metadata": {
        "id": "UBFCZTMwNtGz"
      },
      "execution_count": null,
      "outputs": []
    },
    {
      "cell_type": "code",
      "source": [
        "from flask import Blueprint\n",
        "\n",
        "main_blueprint = Blueprint('main', __name__)\n",
        "\n",
        "from . import routes"
      ],
      "metadata": {
        "id": "DwzJeDG4N7mh"
      },
      "execution_count": null,
      "outputs": []
    },
    {
      "cell_type": "code",
      "source": [
        "from . import main_blueprint\n",
        "\n",
        "@main_blueprint.route('/')\n",
        "def home():\n",
        "    return \"Welcome to the Home Page!\""
      ],
      "metadata": {
        "id": "AHjYmYvVN9jq"
      },
      "execution_count": null,
      "outputs": []
    },
    {
      "cell_type": "code",
      "source": [
        "from flask import Blueprint\n",
        "\n",
        "auth_blueprint = Blueprint('auth', __name__)\n",
        "\n",
        "from . import routes"
      ],
      "metadata": {
        "id": "pS-Ms4K4N_F8"
      },
      "execution_count": null,
      "outputs": []
    },
    {
      "cell_type": "code",
      "source": [
        "from . import auth_blueprint\n",
        "\n",
        "@auth_blueprint.route('/login')\n",
        "def login():\n",
        "    return \"Login Page\"\n",
        "\n",
        "@auth_blueprint.route('/logout')\n",
        "def logout():\n",
        "    return \"Logout Page\""
      ],
      "metadata": {
        "id": "xArtpU2wOAls"
      },
      "execution_count": null,
      "outputs": []
    },
    {
      "cell_type": "code",
      "source": [
        "from app import create_app\n",
        "\n",
        "app = create_app()\n",
        "\n",
        "if __name__ == '__main__':\n",
        "    app.run(debug=True)"
      ],
      "metadata": {
        "id": "3buRcgd2ODzu"
      },
      "execution_count": null,
      "outputs": []
    },
    {
      "cell_type": "markdown",
      "source": [
        "Ques-12>> How do you define a custom Jinja filter in Flask?\n",
        "\n",
        "Ans-12>>"
      ],
      "metadata": {
        "id": "vPOwxMHJOEv0"
      }
    },
    {
      "cell_type": "code",
      "source": [
        "from flask import Flask\n",
        "\n",
        "# Define the custom filter\n",
        "def title_case(text):\n",
        "    if isinstance(text, str):\n",
        "        return text.title()  # Converts text to title case\n",
        "    return text"
      ],
      "metadata": {
        "id": "-5LvA1JMOK5U"
      },
      "execution_count": null,
      "outputs": []
    },
    {
      "cell_type": "code",
      "source": [
        "app = Flask(__name__)\n",
        "\n",
        "# Register the custom filter\n",
        "app.jinja_env.filters['title_case'] = title_case"
      ],
      "metadata": {
        "id": "gaZsyjNvOMyb"
      },
      "execution_count": null,
      "outputs": []
    },
    {
      "cell_type": "code",
      "source": [
        "<!DOCTYPE html>\n",
        "<html>\n",
        "<head>\n",
        "    <title>Custom Filter Example</title>\n",
        "</head>\n",
        "<body>\n",
        "    <h1>{{ \"hello world, this is flask!\" | title_case }}</h1>\n",
        "</body>\n",
        "</html>"
      ],
      "metadata": {
        "id": "K02lVuXEOOW8"
      },
      "execution_count": null,
      "outputs": []
    },
    {
      "cell_type": "code",
      "source": [
        "from flask import Flask, render_template\n",
        "\n",
        "# Define the custom filter\n",
        "def title_case(text):\n",
        "    if isinstance(text, str):\n",
        "        return text.title()  # Converts text to title case\n",
        "    return text\n",
        "\n",
        "# Create Flask app\n",
        "app = Flask(__name__)\n",
        "\n",
        "# Register the custom filter\n",
        "app.jinja_env.filters['title_case'] = title_case\n",
        "\n",
        "# Define the route to render the template\n",
        "@app.route('/')\n",
        "def home():\n",
        "    return render_template('index.html')\n",
        "\n",
        "if __name__ == '__main__':\n",
        "    app.run(debug=True)"
      ],
      "metadata": {
        "id": "0AIg-KK5ORCT"
      },
      "execution_count": null,
      "outputs": []
    },
    {
      "cell_type": "markdown",
      "source": [
        "Ques-13>> How can you redirect with query parameters in Flask?\n",
        "\n",
        "Ans-13>>"
      ],
      "metadata": {
        "id": "fwD2ck5FOWPI"
      }
    },
    {
      "cell_type": "code",
      "source": [
        "from flask import Flask, redirect, url_for, request\n",
        "\n",
        "app = Flask(__name__)\n",
        "\n",
        "# Route that accepts query parameters and displays them\n",
        "@app.route('/greet')\n",
        "def greet():\n",
        "    name = request.args.get('name', 'Guest')  # Get the 'name' query parameter, default to 'Guest' if not provided\n",
        "    return f\"Hello, {name}!\"\n",
        "\n",
        "# Route that redirects to '/greet' with query parameters\n",
        "@app.route('/welcome')\n",
        "def welcome():\n",
        "    name = \"Alice\"  # You can dynamically generate the name\n",
        "    return redirect(url_for('greet', name=name))  # Redirect to '/greet?name=Alice'\n",
        "\n",
        "if __name__ == '__main__':\n",
        "    app.run(debug=True)"
      ],
      "metadata": {
        "id": "dYhsNrz4OZhq"
      },
      "execution_count": null,
      "outputs": []
    },
    {
      "cell_type": "markdown",
      "source": [
        "Ques-14>>  How do you return JSON responses in Flask?\n",
        "\n",
        "Ans-14>>"
      ],
      "metadata": {
        "id": "L7AUK3fVOddH"
      }
    },
    {
      "cell_type": "code",
      "source": [
        "from flask import Flask, jsonify\n",
        "\n",
        "app = Flask(__name__)\n",
        "\n",
        "@app.route('/api')\n",
        "def api():\n",
        "    # Create a dictionary of data to return as JSON\n",
        "    data = {\n",
        "        'name': 'Alice',\n",
        "        'age': 25,\n",
        "        'city': 'Wonderland'\n",
        "    }\n",
        "    return jsonify(data)\n",
        "\n",
        "if __name__ == '__main__':\n",
        "    app.run(debug=True)"
      ],
      "metadata": {
        "id": "QSW4UfX-Ohng"
      },
      "execution_count": null,
      "outputs": []
    },
    {
      "cell_type": "markdown",
      "source": [
        "Ques-15>> How do you capture URL parameters in Flask?\n",
        "\n",
        "Ans-15>>"
      ],
      "metadata": {
        "id": "sqmIvmwPOoza"
      }
    },
    {
      "cell_type": "code",
      "source": [
        "from flask import Flask\n",
        "\n",
        "app = Flask(__name__)\n",
        "\n",
        "# Route with a dynamic string parameter\n",
        "@app.route('/user/<username>')\n",
        "def show_user_profile(username):\n",
        "    return f\"User: {username}\"\n",
        "\n",
        "# Route with multiple parameters and type conversion\n",
        "@app.route('/post/<int:post_id>/comment/<int:comment_id>')\n",
        "def show_comment(post_id, comment_id):\n",
        "    return f\"Post ID: {post_id}, Comment ID: {comment_id}\"\n",
        "\n",
        "# Route with an optional parameter\n",
        "@app.route('/product/<int:product_id>/reviews')\n",
        "@app.route('/product/<int:product_id>/reviews/<int:review_id>')\n",
        "def show_reviews(product_id, review_id=None):\n",
        "    if review_id:\n",
        "        return f\"Review {review_id} for Product {product_id}\"\n",
        "    else:\n",
        "        return f\"Showing all reviews for Product {product_id}\"\n",
        "\n",
        "# Route with path parameter to capture file paths\n",
        "@app.route('/file/<path:file_name>')\n",
        "def show_file(file_name):\n",
        "    return f\"File Name: {file_name}\"\n",
        "\n",
        "if __name__ == '__main__':\n",
        "    app.run(debug=True)\n"
      ],
      "metadata": {
        "id": "IxUXLW9MOuZC"
      },
      "execution_count": null,
      "outputs": []
    }
  ]
}