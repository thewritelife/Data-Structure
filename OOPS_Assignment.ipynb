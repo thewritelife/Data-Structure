{
  "nbformat": 4,
  "nbformat_minor": 0,
  "metadata": {
    "colab": {
      "provenance": []
    },
    "kernelspec": {
      "name": "python3",
      "display_name": "Python 3"
    },
    "language_info": {
      "name": "python"
    }
  },
  "cells": [
    {
      "cell_type": "markdown",
      "source": [
        "Ques-1>> What is Object-Oriented Programming (OOP)?\n",
        "\n",
        "Ans-1>> Object-Oriented Programming (OOP) is a way of writing code using objects. These objects have data and can do actions. It helps make code easier to understand, reuse, and manage."
      ],
      "metadata": {
        "id": "TxQ35_rNPJpZ"
      }
    },
    {
      "cell_type": "markdown",
      "source": [
        "Ques-2>>  What is a class in OOP?\n",
        "\n",
        "Ans-2>> A class is a blueprint for creating objects. It defines the data and actions that the objects will have."
      ],
      "metadata": {
        "id": "I_pbAVa-Pu8g"
      }
    },
    {
      "cell_type": "markdown",
      "source": [
        "Ques-3>> What is an object in OOP?\n",
        "\n",
        "Ans-3>> An object is an instance of a class. It has the data and can do the actions defined in the class."
      ],
      "metadata": {
        "id": "2R09stf_P56y"
      }
    },
    {
      "cell_type": "markdown",
      "source": [
        "Ques-4>> What is the difference between abstraction and encapsulation?\n",
        "\n",
        "Ans-4>> Abstraction hides complex details and shows only the important parts.\n",
        "Encapsulation wraps data and code together and keeps it safe from outside changes."
      ],
      "metadata": {
        "id": "P939OrTWQDRh"
      }
    },
    {
      "cell_type": "markdown",
      "source": [
        "Ques-5>> What are dunder methods in Python?\n",
        "\n",
        "Ans-5>> Dunder methods (short for “double underscore”) are special methods in Python with names like __init__, __str__, etc. They let you define how objects behave with built-in functions and operators."
      ],
      "metadata": {
        "id": "05D3YK3VQNgv"
      }
    },
    {
      "cell_type": "markdown",
      "source": [
        "Ques-6>> Explain the concept of inheritance in OOP.\n",
        "\n",
        "Ans-6>> Inheritance lets a class use the features (methods and properties) of another class. It helps reuse code and build relationships between classes."
      ],
      "metadata": {
        "id": "YNXN5SrXQY44"
      }
    },
    {
      "cell_type": "markdown",
      "source": [
        "Ques-7>> What is polymorphism in OOP?\n",
        "\n",
        "Ans-7>> Polymorphism means one thing can take many forms. In OOP, it lets different classes use the same method name but work differently."
      ],
      "metadata": {
        "id": "YDwu0UbQQikL"
      }
    },
    {
      "cell_type": "markdown",
      "source": [
        "Ques-8>> How is encapsulation achieved in Python?\n",
        "\n",
        "Ans-8>> Encapsulation in Python is done by using private variables (with _ or __ before names) and getter/setter methods to control access to data."
      ],
      "metadata": {
        "id": "wZdP7QKCQrJr"
      }
    },
    {
      "cell_type": "markdown",
      "source": [
        "Ques-9>>  What is a constructor in Python?\n",
        "\n",
        "Ans-9>> A constructor is a special method (__init__) that runs when an object is created to set up its initial values."
      ],
      "metadata": {
        "id": "Bi7kxWlEQyfl"
      }
    },
    {
      "cell_type": "markdown",
      "source": [
        "Ques-10>> What are class and static methods in Python?\n",
        "\n",
        "Ans-10>>\n",
        "\n",
        "*   **Class methods** use @classmethod and take cls as the first argument; they work with the class, not objects.\n",
        "*   **Static methods** use @staticmethod and don’t take self or cls; they act like regular functions inside the class."
      ],
      "metadata": {
        "id": "RhutjFTBQ7BM"
      }
    },
    {
      "cell_type": "markdown",
      "source": [
        "Ques-11>> What is method overloading in Python?\n",
        "\n",
        "Ans-11>> Python doesn’t support method overloading like some languages. If you define multiple methods with the same name, the last one replaces the others."
      ],
      "metadata": {
        "id": "pTL28ocWROoC"
      }
    },
    {
      "cell_type": "markdown",
      "source": [
        "Ques-12>> What is method overriding in OOP?\n",
        "\n",
        "Ans-12>> Method overriding is when a child class gives its own version of a method that already exists in its parent class."
      ],
      "metadata": {
        "id": "31OtKI-GRX8u"
      }
    },
    {
      "cell_type": "markdown",
      "source": [
        "Ques-13>> What is a property decorator in Python?\n",
        "\n",
        "Ans-13>> A property decorator (@property) lets you use a method like an attribute to get a value, making code cleaner and safer."
      ],
      "metadata": {
        "id": "ZSofHL5mRi7u"
      }
    },
    {
      "cell_type": "markdown",
      "source": [
        "Ques-14>> Why is polymorphism important in OOP?\n",
        "\n",
        "Ans-14>> Polymorphism is important because it lets different objects be used in the same way, making code flexible and easier to extend."
      ],
      "metadata": {
        "id": "5L8InlhsRq1M"
      }
    },
    {
      "cell_type": "markdown",
      "source": [
        "Ques-15>> What is an abstract class in Python?\n",
        "\n",
        "Ans-15>> An abstract class is a class that can’t be used to create objects directly. It usually has one or more abstract methods that must be done by its child classes."
      ],
      "metadata": {
        "id": "qZw3RE2BR0BR"
      }
    },
    {
      "cell_type": "markdown",
      "source": [
        "Ques-16>> What are the advantages of OOP?\n",
        "\n",
        "Ans-16>>\n",
        "\n",
        "1.   Easy to manage and organize code\n",
        "2.   Reusable code through inheritance\n",
        "3.   Makes complex programs simpler\n",
        "4.   Helps protect data with encapsulation\n",
        "5.   Supports flexible and extendable design with polymorphism"
      ],
      "metadata": {
        "id": "2nH1qEwGR_-V"
      }
    },
    {
      "cell_type": "markdown",
      "source": [
        "Ques-17>> What is the difference between a class variable and an instance variable?\n",
        "\n",
        "Ans-17>>\n",
        "\n",
        "*   **Class variable:** Shared by all objects of the class.\n",
        "*   **Instance variable:** Unique to each object."
      ],
      "metadata": {
        "id": "7RamWL8WSfpX"
      }
    },
    {
      "cell_type": "markdown",
      "source": [
        "Ques-18>> What is multiple inheritance in Python?\n",
        "\n",
        "Ans-18>> Multiple inheritance is when a class inherits from more than one parent class."
      ],
      "metadata": {
        "id": "45dsa8HvSwiI"
      }
    },
    {
      "cell_type": "markdown",
      "source": [
        "Ques-19>> Explain the purpose of ‘’__str__’ and ‘__repr__’ ‘ methods in Python.\n",
        "\n",
        "Ans-19>>\n",
        "\n",
        "*   __str__: Returns a readable string for users (like print output).\n",
        "*   __repr__: Returns a detailed string for developers, useful for debugging."
      ],
      "metadata": {
        "id": "GbZOldfkTBjs"
      }
    },
    {
      "cell_type": "markdown",
      "source": [
        "Ques-20>> What is the significance of the ‘super()’ function in Python?\n",
        "\n",
        "Ans-20>> super() lets a child class call methods from its parent class, often to reuse or extend functionality."
      ],
      "metadata": {
        "id": "MZPqiZnCTSa8"
      }
    },
    {
      "cell_type": "markdown",
      "source": [
        "Ques-21>> What is the significance of the __del__ method in Python?\n",
        "\n",
        "Ans-21>> The __del__ method is called when an object is about to be destroyed to clean up resources."
      ],
      "metadata": {
        "id": "Uiwo7DbFTaro"
      }
    },
    {
      "cell_type": "markdown",
      "source": [
        "Ques-22>> What is the difference between @staticmethod and @classmethod in Python?\n",
        "\n",
        "Ans-22>>\n",
        "\n",
        "*   **@staticmethod:** No automatic first argument; works like a regular function inside a class.\n",
        "*   **@classmethod:** Takes cls as first argument; works with the class itself."
      ],
      "metadata": {
        "id": "aUGM1VgKTijw"
      }
    },
    {
      "cell_type": "markdown",
      "source": [
        "Ques-23>> How does polymorphism work in Python with inheritance?\n",
        "\n",
        "Ans-23>> In Python, polymorphism lets a child class override a parent’s method. When you call that method on an object, Python uses the child’s version, even if the object is accessed as the parent type."
      ],
      "metadata": {
        "id": "ZLQ5y6TZT4S9"
      }
    },
    {
      "cell_type": "markdown",
      "source": [
        "Ques-24>> What is method chaining in Python OOP?\n",
        "\n",
        "Ans-24>> Method chaining is calling multiple methods on the same object in one line because each method returns the object itself."
      ],
      "metadata": {
        "id": "ikEjpescT-9z"
      }
    },
    {
      "cell_type": "markdown",
      "source": [
        "Ques-25>> What is the purpose of the __call__ method in Python?\n",
        "\n",
        "Ans-25>> The __call__ method lets an object be used like a function, so you can \"call\" the object directly."
      ],
      "metadata": {
        "id": "V60CRf4-UFdL"
      }
    },
    {
      "cell_type": "code",
      "source": [
        "# Ques-1>> Create a parent class Animal with a method speak() that prints a generic message. Create a child class Dog that overrides the speak() method to print \"Bark!\".\n",
        "# Ans-1>>\n",
        "class Animal:\n",
        "    def speak(self):\n",
        "        print(\"This animal makes a sound.\")\n",
        "\n",
        "class Dog(Animal):\n",
        "    def speak(self):\n",
        "        print(\"Bark!\")\n",
        "# Example usage:\n",
        "a = Animal()\n",
        "a.speak()\n",
        "\n",
        "d = Dog()\n",
        "d.speak()"
      ],
      "metadata": {
        "colab": {
          "base_uri": "https://localhost:8080/"
        },
        "id": "AT6OAX1sUg5s",
        "outputId": "25f3518b-a7e8-4b4c-daf1-d2a984a2a9da"
      },
      "execution_count": 4,
      "outputs": [
        {
          "output_type": "stream",
          "name": "stdout",
          "text": [
            "This animal makes a sound.\n",
            "Bark!\n"
          ]
        }
      ]
    },
    {
      "cell_type": "code",
      "source": [
        "# Ques-2>> Write a program to create an abstract class Shape with a method area(). Derive classes Circle and Rectangle from it and implement the area() method in both.\n",
        "# Ans-2>>\n",
        "from abc import ABC, abstractmethod\n",
        "import math\n",
        "\n",
        "class Shape(ABC):\n",
        "    @abstractmethod\n",
        "    def area(self):\n",
        "        pass\n",
        "\n",
        "class Circle(Shape):\n",
        "    def __init__(self, radius):\n",
        "        self.radius = radius\n",
        "\n",
        "    def area(self):\n",
        "        return math.pi * self.radius ** 2\n",
        "\n",
        "class Rectangle(Shape):\n",
        "    def __init__(self, width, height):\n",
        "        self.width = width\n",
        "        self.height = height\n",
        "\n",
        "    def area(self):\n",
        "        return self.width * self.height\n",
        "# Example usage:\n",
        "c = Circle(5)\n",
        "print(c.area())  # 78.53981633974483\n",
        "\n",
        "r = Rectangle(4, 6)\n",
        "print(r.area())"
      ],
      "metadata": {
        "colab": {
          "base_uri": "https://localhost:8080/"
        },
        "id": "18pWv43OVKnl",
        "outputId": "4c28262b-ec71-4812-fd0c-d2b8df4af4eb"
      },
      "execution_count": 5,
      "outputs": [
        {
          "output_type": "stream",
          "name": "stdout",
          "text": [
            "78.53981633974483\n",
            "24\n"
          ]
        }
      ]
    },
    {
      "cell_type": "code",
      "source": [
        "# Ques-3>>  Implement a multi-level inheritance scenario where a class Vehicle has an attribute type. Derive a class Car and further derive a class ElectricCar that adds a battery attribute.\n",
        "# Ans-3>>\n",
        "class Vehicle:\n",
        "    def __init__(self, type):\n",
        "        self.type = type\n",
        "\n",
        "class Car(Vehicle):\n",
        "    pass\n",
        "\n",
        "class ElectricCar(Car):\n",
        "    def __init__(self, type, battery):\n",
        "        super().__init__(type)\n",
        "        self.battery = battery\n",
        "\n",
        "# Usage\n",
        "ecar = ElectricCar(\"Car\", \"100 kWh\")\n",
        "print(ecar.type)\n",
        "print(ecar.battery)"
      ],
      "metadata": {
        "colab": {
          "base_uri": "https://localhost:8080/"
        },
        "id": "tZ8YHV7pVa78",
        "outputId": "a64bb71b-6b07-4347-ab60-4bc4aac9a6aa"
      },
      "execution_count": 7,
      "outputs": [
        {
          "output_type": "stream",
          "name": "stdout",
          "text": [
            "Car\n",
            "100 kWh\n"
          ]
        }
      ]
    },
    {
      "cell_type": "code",
      "source": [
        "# Ques-4>> Demonstrate polymorphism by creating a base class Bird with a method fly(). Create two derived classes Sparrow and Penguin that override the fly() method.\n",
        "# Ans-4>>\n",
        "class Bird:\n",
        "    def fly(self):\n",
        "        print(\"Some birds can fly.\")\n",
        "\n",
        "class Sparrow(Bird):\n",
        "    def fly(self):\n",
        "        print(\"Sparrow can fly.\")\n",
        "\n",
        "class Penguin(Bird):\n",
        "    def fly(self):\n",
        "        print(\"Penguin cannot fly.\")\n",
        "\n",
        "# Example usage:\n",
        "birds = [Sparrow(), Penguin()]\n",
        "\n",
        "for bird in birds:\n",
        "    bird.fly()"
      ],
      "metadata": {
        "colab": {
          "base_uri": "https://localhost:8080/"
        },
        "id": "0Dm5jpiqWB-J",
        "outputId": "3886b810-dfa1-4bc9-bfdc-3e3c986ffd5c"
      },
      "execution_count": 8,
      "outputs": [
        {
          "output_type": "stream",
          "name": "stdout",
          "text": [
            "Sparrow can fly.\n",
            "Penguin cannot fly.\n"
          ]
        }
      ]
    },
    {
      "cell_type": "code",
      "source": [
        "# Ques-5>> Write a program to demonstrate encapsulation by creating a class BankAccount with private attributes balance and methods to deposit, withdraw, and check balance.\n",
        "# Ans-5>>\n",
        "class BankAccount:\n",
        "    def __init__(self, balance=0):\n",
        "        self.__balance = balance  # private attribute\n",
        "\n",
        "    def deposit(self, amount):\n",
        "        if amount > 0:\n",
        "            self.__balance += amount\n",
        "\n",
        "    def withdraw(self, amount):\n",
        "        if 0 < amount <= self.__balance:\n",
        "            self.__balance -= amount\n",
        "        else:\n",
        "            print(\"Insufficient balance or invalid amount.\")\n",
        "\n",
        "    def get_balance(self):\n",
        "        return self.__balance\n",
        "\n",
        "# Example usage:\n",
        "account = BankAccount(100)\n",
        "account.deposit(50)\n",
        "account.withdraw(30)\n",
        "print(account.get_balance())"
      ],
      "metadata": {
        "colab": {
          "base_uri": "https://localhost:8080/"
        },
        "id": "KdXsenyWWO6S",
        "outputId": "750e19e9-0e72-48ed-b009-e9b03a6fd83e"
      },
      "execution_count": 10,
      "outputs": [
        {
          "output_type": "stream",
          "name": "stdout",
          "text": [
            "120\n"
          ]
        }
      ]
    },
    {
      "cell_type": "code",
      "source": [
        "# Ques-6>> Demonstrate runtime polymorphism using a method play() in a base class Instrument. Derive classes Guitar and Piano that implement their own version of play().\n",
        "# Ans-6>>\n",
        "class Instrument:\n",
        "    def play(self):\n",
        "        print(\"Playing instrument.\")\n",
        "\n",
        "class Guitar(Instrument):\n",
        "    def play(self):\n",
        "        print(\"Playing guitar.\")\n",
        "\n",
        "class Piano(Instrument):\n",
        "    def play(self):\n",
        "        print(\"Playing piano.\")\n",
        "\n",
        "# Example usage:\n",
        "instruments = [Guitar(), Piano()]\n",
        "\n",
        "for instrument in instruments:\n",
        "    instrument.play()"
      ],
      "metadata": {
        "colab": {
          "base_uri": "https://localhost:8080/"
        },
        "id": "cOFFZnBYWb9d",
        "outputId": "95f45871-0905-429e-f3a4-48ed2b810f74"
      },
      "execution_count": 11,
      "outputs": [
        {
          "output_type": "stream",
          "name": "stdout",
          "text": [
            "Playing guitar.\n",
            "Playing piano.\n"
          ]
        }
      ]
    },
    {
      "cell_type": "code",
      "source": [
        "# Ques-7>> Create a class MathOperations with a class method add_numbers() to add two numbers and a static method subtract_numbers() to subtract two numbers.\n",
        "# Ans-7>>\n",
        "class MathOperations:\n",
        "    @classmethod\n",
        "    def add_numbers(cls, a, b):\n",
        "        return a + b\n",
        "\n",
        "    @staticmethod\n",
        "    def subtract_numbers(a, b):\n",
        "        return a - b\n",
        "\n",
        "# Example usage:\n",
        "print(MathOperations.add_numbers(5, 3))\n",
        "print(MathOperations.subtract_numbers(5, 3))"
      ],
      "metadata": {
        "colab": {
          "base_uri": "https://localhost:8080/"
        },
        "id": "sTMW52TyWneN",
        "outputId": "5a149f11-4b10-4351-8709-bccb893d4364"
      },
      "execution_count": 12,
      "outputs": [
        {
          "output_type": "stream",
          "name": "stdout",
          "text": [
            "8\n",
            "2\n"
          ]
        }
      ]
    },
    {
      "cell_type": "code",
      "source": [
        "# Ques-8>> Implement a class Person with a class method to count the total number of persons created.\n",
        "# Ans-8>>\n",
        "class Person:\n",
        "    count = 0  # class variable to track number of persons\n",
        "\n",
        "    def __init__(self, name):\n",
        "        self.name = name\n",
        "        Person.count += 1\n",
        "\n",
        "    @classmethod\n",
        "    def total_persons(cls):\n",
        "        return cls.count\n",
        "\n",
        "# Example usage:\n",
        "p1 = Person(\"Alice\")\n",
        "p2 = Person(\"Bob\")\n",
        "\n",
        "print(Person.total_persons())"
      ],
      "metadata": {
        "colab": {
          "base_uri": "https://localhost:8080/"
        },
        "id": "iXsLPp4tW0I4",
        "outputId": "456d8f65-9fdf-4558-e50b-6475fd940408"
      },
      "execution_count": 13,
      "outputs": [
        {
          "output_type": "stream",
          "name": "stdout",
          "text": [
            "2\n"
          ]
        }
      ]
    },
    {
      "cell_type": "code",
      "source": [
        "# Ques-9>> Write a class Fraction with attributes numerator and denominator. Override the str method to display the fraction as \"numerator/denominator\".\n",
        "# Ans-9>>\n",
        "class Fraction:\n",
        "    def __init__(self, numerator, denominator):\n",
        "        self.numerator = numerator\n",
        "        self.denominator = denominator\n",
        "\n",
        "    def __str__(self):\n",
        "        return f\"{self.numerator}/{self.denominator}\"\n",
        "\n",
        "# Example usage:\n",
        "f = Fraction(3, 4)\n",
        "print(f)"
      ],
      "metadata": {
        "colab": {
          "base_uri": "https://localhost:8080/"
        },
        "id": "PAebbt70XD8c",
        "outputId": "a68dc8b7-e158-4ce6-ffdd-c99b3bfb8b46"
      },
      "execution_count": 14,
      "outputs": [
        {
          "output_type": "stream",
          "name": "stdout",
          "text": [
            "3/4\n"
          ]
        }
      ]
    },
    {
      "cell_type": "code",
      "source": [
        "# Ques-10>> Demonstrate operator overloading by creating a class Vector and overriding the add method to add two vectors.\n",
        "# Ans-10>>\n",
        "class Vector:\n",
        "    def __init__(self, x, y):\n",
        "        self.x = x\n",
        "        self.y = y\n",
        "\n",
        "    def __add__(self, other):\n",
        "        return Vector(self.x + other.x, self.y + other.y)\n",
        "\n",
        "    def __str__(self):\n",
        "        return f\"({self.x}, {self.y})\"\n",
        "\n",
        "# Example usage:\n",
        "v1 = Vector(1, 2)\n",
        "v2 = Vector(3, 4)\n",
        "v3 = v1 + v2\n",
        "print(v3)"
      ],
      "metadata": {
        "colab": {
          "base_uri": "https://localhost:8080/"
        },
        "id": "yTgl1Ye5XN36",
        "outputId": "e74c09f7-ec1c-42d7-d30b-7dc63d180db6"
      },
      "execution_count": 15,
      "outputs": [
        {
          "output_type": "stream",
          "name": "stdout",
          "text": [
            "(4, 6)\n"
          ]
        }
      ]
    },
    {
      "cell_type": "code",
      "source": [
        "# Ques-11>> Create a class Person with attributes name and age. Add a method greet() that prints \"Hello, my name is {name} and I am {age} years old.\"\n",
        "# Ans-11>>\n",
        "class Person:\n",
        "    def __init__(self, name, age):\n",
        "        self.name = name\n",
        "        self.age = age\n",
        "\n",
        "    def greet(self):\n",
        "        print(f\"Hello, my name is {self.name} and I am {self.age} years old.\")\n",
        "\n",
        "# Example usage:\n",
        "p = Person(\"John\", 25)\n",
        "p.greet()"
      ],
      "metadata": {
        "colab": {
          "base_uri": "https://localhost:8080/"
        },
        "id": "Oenr1Kd6Xct1",
        "outputId": "2cf43bdd-d650-44c7-c81d-843036ffff8c"
      },
      "execution_count": 16,
      "outputs": [
        {
          "output_type": "stream",
          "name": "stdout",
          "text": [
            "Hello, my name is John and I am 25 years old.\n"
          ]
        }
      ]
    },
    {
      "cell_type": "code",
      "source": [
        "# Ques-12>> Implement a class Student with attributes name and grades. Create a method average_grade() to compute the average of the grades.\n",
        "# Ans-12>>\n",
        "class Student:\n",
        "    def __init__(self, name, grades):\n",
        "        self.name = name\n",
        "        self.grades = grades\n",
        "\n",
        "    def average_grade(self):\n",
        "        return sum(self.grades) / len(self.grades) if self.grades else 0\n",
        "\n",
        "# Example usage:\n",
        "s = Student(\"Anna\", [85, 90, 78])\n",
        "print(s.average_grade())"
      ],
      "metadata": {
        "colab": {
          "base_uri": "https://localhost:8080/"
        },
        "id": "JMtHQktzXtWN",
        "outputId": "3f89f18b-1b55-4a5f-f5ae-9d528e792b60"
      },
      "execution_count": 17,
      "outputs": [
        {
          "output_type": "stream",
          "name": "stdout",
          "text": [
            "84.33333333333333\n"
          ]
        }
      ]
    },
    {
      "cell_type": "code",
      "source": [
        "# Ques-13>> Create a class Rectangle with methods set_dimensions() to set the dimensions and area() to calculate the area.\n",
        "# Ans-13>>\n",
        "class Rectangle:\n",
        "    def set_dimensions(self, width, height):\n",
        "        self.width = width\n",
        "        self.height = height\n",
        "\n",
        "    def area(self):\n",
        "        return self.width * self.height\n",
        "\n",
        "# Example usage:\n",
        "r = Rectangle()\n",
        "r.set_dimensions(5, 4)\n",
        "print(r.area())"
      ],
      "metadata": {
        "colab": {
          "base_uri": "https://localhost:8080/"
        },
        "id": "eSms1XlNX5xG",
        "outputId": "2452e6bb-0b83-407e-e4ed-5f49cb1bc0e4"
      },
      "execution_count": 18,
      "outputs": [
        {
          "output_type": "stream",
          "name": "stdout",
          "text": [
            "20\n"
          ]
        }
      ]
    },
    {
      "cell_type": "code",
      "source": [
        "# Ques-14>> Create a class Employee with a method calculate_salary() that computes the salary based on hours worked and hourly rate. Create a derived class Manager that adds a bonus to the salary.\n",
        "# Ans-14>>\n",
        "class Employee:\n",
        "    def __init__(self, hours_worked, hourly_rate):\n",
        "        self.hours_worked = hours_worked\n",
        "        self.hourly_rate = hourly_rate\n",
        "\n",
        "    def calculate_salary(self):\n",
        "        return self.hours_worked * self.hourly_rate\n",
        "\n",
        "class Manager(Employee):\n",
        "    def __init__(self, hours_worked, hourly_rate, bonus):\n",
        "        super().__init__(hours_worked, hourly_rate)\n",
        "        self.bonus = bonus\n",
        "\n",
        "    def calculate_salary(self):\n",
        "        return super().calculate_salary() + self.bonus\n",
        "\n",
        "# Example usage:\n",
        "e = Employee(40, 20)\n",
        "m = Manager(40, 20, 500)\n",
        "\n",
        "print(e.calculate_salary())\n",
        "print(m.calculate_salary())"
      ],
      "metadata": {
        "colab": {
          "base_uri": "https://localhost:8080/"
        },
        "id": "SzSYuIZnYL0y",
        "outputId": "1c04fa09-c66d-4476-905f-669ec4db6914"
      },
      "execution_count": 19,
      "outputs": [
        {
          "output_type": "stream",
          "name": "stdout",
          "text": [
            "800\n",
            "1300\n"
          ]
        }
      ]
    },
    {
      "cell_type": "code",
      "source": [
        "# Ques-15>> Create a class Product with attributes name, price, and quantity. Implement a method total_price() that calculates the total price of the product.\n",
        "# Ans-15>>\n",
        "class Product:\n",
        "    def __init__(self, name, price, quantity):\n",
        "        self.name = name\n",
        "        self.price = price\n",
        "        self.quantity = quantity\n",
        "\n",
        "    def total_price(self):\n",
        "        return self.price * self.quantity\n",
        "\n",
        "# Example usage:\n",
        "p = Product(\"Laptop\", 800, 3)\n",
        "print(p.total_price())"
      ],
      "metadata": {
        "colab": {
          "base_uri": "https://localhost:8080/"
        },
        "id": "MciG2ddGYYyw",
        "outputId": "25c790cc-6106-4c7f-a952-6920239ec52f"
      },
      "execution_count": 20,
      "outputs": [
        {
          "output_type": "stream",
          "name": "stdout",
          "text": [
            "2400\n"
          ]
        }
      ]
    },
    {
      "cell_type": "code",
      "source": [
        "# Ques-16>> Create a class Animal with an abstract method sound(). Create two derived classes Cow and Sheep that implement the sound() method.\n",
        "# Ans-16>>\n",
        "from abc import ABC, abstractmethod\n",
        "\n",
        "class Animal(ABC):\n",
        "    @abstractmethod\n",
        "    def sound(self):\n",
        "        pass\n",
        "\n",
        "class Cow(Animal):\n",
        "    def sound(self):\n",
        "        print(\"Moo\")\n",
        "\n",
        "class Sheep(Animal):\n",
        "    def sound(self):\n",
        "        print(\"Baa\")\n",
        "\n",
        "# Example usage:\n",
        "cow = Cow()\n",
        "sheep = Sheep()\n",
        "cow.sound()\n",
        "sheep.sound()"
      ],
      "metadata": {
        "colab": {
          "base_uri": "https://localhost:8080/"
        },
        "id": "4zyD0I6BYnHM",
        "outputId": "1f926720-b891-49ce-e7d2-4ff552b4b4e3"
      },
      "execution_count": 21,
      "outputs": [
        {
          "output_type": "stream",
          "name": "stdout",
          "text": [
            "Moo\n",
            "Baa\n"
          ]
        }
      ]
    },
    {
      "cell_type": "code",
      "source": [
        "# Ques-17>> Create a class Book with attributes title, author, and year_published. Add a method get_book_info() that returns a formatted string with the book's details.\n",
        "# Ans-17>>\n",
        "class Book:\n",
        "    def __init__(self, title, author, year_published):\n",
        "        self.title = title\n",
        "        self.author = author\n",
        "        self.year_published = year_published\n",
        "\n",
        "    def get_book_info(self):\n",
        "        return f\"'{self.title}' by {self.author}, published in {self.year_published}\"\n",
        "\n",
        "# Example usage:\n",
        "book = Book(\"1984\", \"George Orwell\", 1949)\n",
        "print(book.get_book_info())"
      ],
      "metadata": {
        "colab": {
          "base_uri": "https://localhost:8080/"
        },
        "id": "0bXwPTpVY2mn",
        "outputId": "eb4ad98e-991a-4a38-a59a-eaf72a056104"
      },
      "execution_count": 23,
      "outputs": [
        {
          "output_type": "stream",
          "name": "stdout",
          "text": [
            "'1984' by George Orwell, published in 1949\n"
          ]
        }
      ]
    },
    {
      "cell_type": "code",
      "source": [
        "# Ques-18>> Create a class House with attributes address and price. Create a derived class Mansion that adds an attribute number_of_rooms.\n",
        "# Ans-18>>\n",
        "class House:\n",
        "    def __init__(self, address, price):\n",
        "        self.address = address\n",
        "        self.price = price\n",
        "\n",
        "class Mansion(House):\n",
        "    def __init__(self, address, price, number_of_rooms):\n",
        "        super().__init__(address, price)\n",
        "        self.number_of_rooms = number_of_rooms\n",
        "\n",
        "# Example usage:\n",
        "m = Mansion(\"123 Luxury St\", 1000000, 10)\n",
        "print(m.address)\n",
        "print(m.price)\n",
        "print(m.number_of_rooms)"
      ],
      "metadata": {
        "colab": {
          "base_uri": "https://localhost:8080/"
        },
        "id": "zxulys7vZGcb",
        "outputId": "522f3aa6-7ab6-4ea6-ffc0-d9af80212922"
      },
      "execution_count": 24,
      "outputs": [
        {
          "output_type": "stream",
          "name": "stdout",
          "text": [
            "123 Luxury St\n",
            "1000000\n",
            "10\n"
          ]
        }
      ]
    }
  ]
}